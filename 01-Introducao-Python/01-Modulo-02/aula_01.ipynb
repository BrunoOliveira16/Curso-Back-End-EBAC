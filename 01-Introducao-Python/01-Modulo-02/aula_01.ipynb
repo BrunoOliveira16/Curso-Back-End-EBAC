{
  "cells": [
    {
      "cell_type": "markdown",
      "metadata": {
        "id": "NOEgQgjHsNnt"
      },
      "source": [
        "## Módulo 2 - Estrutura de Dados\n",
        "\n",
        "### **Aula 1: Listas**"
      ]
    },
    {
      "cell_type": "markdown",
      "metadata": {
        "id": "opy8zuyCsbMN"
      },
      "source": [
        "### **1.1. Motivação** "
      ]
    },
    {
      "cell_type": "markdown",
      "metadata": {
        "id": "rbo3jZ14sjd4"
      },
      "source": [
        "O aplicativo do seu banco registra toda a sua movimentação financeira. O final do dia, o app consolida o saldo final para que você possa controlar sua vida financeira."
      ]
    },
    {
      "cell_type": "code",
      "execution_count": 1,
      "metadata": {
        "id": "-o-p3lb5r3Mi"
      },
      "outputs": [],
      "source": [
        "dia_11_saldo_inicial = 1000"
      ]
    },
    {
      "cell_type": "code",
      "execution_count": 2,
      "metadata": {
        "id": "m_eo0tzWsyKu"
      },
      "outputs": [],
      "source": [
        "dia_11_transacao_1 = 243\n",
        "dia_11_transacao_2 = -798.58\n",
        "dia_11_transacao_3 = 427.12\n",
        "dia_11_transacao_4 = -10.91"
      ]
    },
    {
      "cell_type": "code",
      "execution_count": 3,
      "metadata": {
        "id": "H1D3-iS9s6g-"
      },
      "outputs": [],
      "source": [
        "dia_11_saldo_final = dia_11_saldo_inicial + dia_11_transacao_1 + dia_11_transacao_2 + dia_11_transacao_3 + dia_11_transacao_4"
      ]
    },
    {
      "cell_type": "code",
      "execution_count": null,
      "metadata": {
        "id": "TCEQABNJs8LG"
      },
      "outputs": [],
      "source": [
        "print(dia_11_saldo_final)"
      ]
    },
    {
      "cell_type": "markdown",
      "metadata": {
        "id": "dqbuJkv3tDO8"
      },
      "source": [
        "Será que exista uma forma melhor de armazenar as transações diárias?"
      ]
    },
    {
      "cell_type": "markdown",
      "metadata": {
        "id": "PzTOoYbpuI_1"
      },
      "source": [
        "### **1.2. Definição** "
      ]
    },
    {
      "cell_type": "markdown",
      "metadata": {
        "id": "nq_m3jvUuOAj"
      },
      "source": [
        "Armazenam sequências mutáveis e ordenadas de valores. São do tipo `list`:"
      ]
    },
    {
      "cell_type": "code",
      "execution_count": null,
      "metadata": {
        "id": "3D6-e8VHuSNr"
      },
      "outputs": [],
      "source": [
        "usuario_web = ['André Perez', 'andre.perez', 'andre123', 'andre.perez@gmail.com']\n",
        "\n",
        "print(usuario_web)\n",
        "print(type(usuario_web))"
      ]
    },
    {
      "cell_type": "code",
      "execution_count": null,
      "metadata": {
        "id": "MC3cGaDluZrQ"
      },
      "outputs": [],
      "source": [
        "idade = 20\n",
        "saldo_em_conta = 723.15\n",
        "usuario_loggedin = True\n",
        "\n",
        "usuario_web = ['André Perez', idade, 'andre.perez', 'andre123', 'andre.perez@gmail.com', saldo_em_conta, usuario_loggedin]\n",
        "\n",
        "print(usuario_web)\n",
        "print(type(usuario_web))"
      ]
    },
    {
      "cell_type": "markdown",
      "metadata": {
        "id": "8JL5fo5cujHg"
      },
      "source": [
        "### **1.3. Operações** "
      ]
    },
    {
      "cell_type": "markdown",
      "metadata": {
        "id": "1L7MIj9Mu5hA"
      },
      "source": [
        "As operações da estrutura do tipo *list* são:\n",
        "\n",
        "\n",
        "*   `+` (concatenação)."
      ]
    },
    {
      "cell_type": "markdown",
      "metadata": {
        "id": "ljvvRIFNu7jy"
      },
      "source": [
        "**Exemplo**: Fabricantes de *hardware* mobile"
      ]
    },
    {
      "cell_type": "code",
      "execution_count": null,
      "metadata": {
        "id": "K95P62eXvAkc"
      },
      "outputs": [],
      "source": [
        "fabricantes_mobile_china = ['xiaomi', 'huawei']\n",
        "fabricantes_mobile_eua = ['apple', 'motorola']\n",
        "fabricantes_mobile = fabricantes_mobile_china + fabricantes_mobile_eua\n",
        "\n",
        "print(fabricantes_mobile_china)\n",
        "print(fabricantes_mobile_eua)\n",
        "print(fabricantes_mobile)"
      ]
    },
    {
      "cell_type": "markdown",
      "metadata": {
        "id": "0QuwhOPszbMB"
      },
      "source": [
        "Outra operação muito utilizada é a de fatiamento (*slicing*), semelhante ao de *strings*:"
      ]
    },
    {
      "cell_type": "markdown",
      "metadata": {
        "id": "NXeMf6hyzkWg"
      },
      "source": [
        "Fatiamento fixo:"
      ]
    },
    {
      "cell_type": "code",
      "execution_count": null,
      "metadata": {
        "id": "A149cw93zhTw"
      },
      "outputs": [],
      "source": [
        "print(f'0: {fabricantes_mobile[0]}')\n",
        "print(f'1: {fabricantes_mobile[1]}')"
      ]
    },
    {
      "cell_type": "markdown",
      "metadata": {
        "id": "AdLp3sHb0DPn"
      },
      "source": [
        "Fatiamento por intervalo:"
      ]
    },
    {
      "cell_type": "code",
      "execution_count": null,
      "metadata": {
        "id": "JIa0-88r0E4Q"
      },
      "outputs": [],
      "source": [
        "fabricantes_mobile_china = fabricantes_mobile[0:2]\n",
        "fabricantes_mobile_eua = fabricantes_mobile[2:len(fabricantes_mobile)]\n",
        "\n",
        "print('china: ' + str(fabricantes_mobile_china))\n",
        "print('eua: ' + str(fabricantes_mobile_eua))"
      ]
    },
    {
      "cell_type": "markdown",
      "metadata": {
        "id": "tYdO5AL_0U09"
      },
      "source": [
        "Podemos adicionar elementos a uma posição específica da lista:"
      ]
    },
    {
      "cell_type": "code",
      "execution_count": null,
      "metadata": {
        "id": "McnVi_xq0Vvv"
      },
      "outputs": [],
      "source": [
        "print(fabricantes_mobile)"
      ]
    },
    {
      "cell_type": "code",
      "execution_count": null,
      "metadata": {
        "id": "DPp3jTD10YGH"
      },
      "outputs": [],
      "source": [
        "fabricantes_mobile[2] = 'nokia'\n",
        "print(fabricantes_mobile)"
      ]
    },
    {
      "cell_type": "markdown",
      "metadata": {
        "id": "Q905Z8-I0h4p"
      },
      "source": [
        "### **1.4. Métodos**"
      ]
    },
    {
      "cell_type": "markdown",
      "metadata": {
        "id": "0qiUEnca09_4"
      },
      "source": [
        "São métodos nativos do Python que nos ajudam a trabalhar no dia a dia com listas."
      ]
    },
    {
      "cell_type": "code",
      "execution_count": null,
      "metadata": {
        "id": "QOlci8p01Bf6"
      },
      "outputs": [],
      "source": [
        "juros = [0.05, 0.07, 0.02, 0.04, 0.08]\n",
        "print(juros)"
      ]
    },
    {
      "cell_type": "code",
      "execution_count": null,
      "metadata": {
        "id": "6wolwMLs1Eq4"
      },
      "outputs": [],
      "source": [
        "# inserir um elemento sem substituir: list.insert(index, val)\n",
        "juros.insert(0, 0.10)\n",
        "print(juros)"
      ]
    },
    {
      "cell_type": "code",
      "execution_count": null,
      "metadata": {
        "id": "B6Y3cfy416Bj"
      },
      "outputs": [],
      "source": [
        "# inserir um elemento no fim da lista: list.append(val)\n",
        "juros.append(0.09)\n",
        "print(juros)"
      ]
    },
    {
      "cell_type": "code",
      "execution_count": null,
      "metadata": {
        "id": "ha8sBBRl1-C-"
      },
      "outputs": [],
      "source": [
        "# remover um elemento pelo valor: list.remove(val)\n",
        "juros.remove(0.1)\n",
        "print(juros)"
      ]
    },
    {
      "cell_type": "code",
      "execution_count": null,
      "metadata": {
        "id": "gaIUby-_2Bjb"
      },
      "outputs": [],
      "source": [
        "# remover um elemento pelo índice: list.pop(val)\n",
        "terceiro_juros = juros.pop(2)\n",
        "print(terceiro_juros)"
      ]
    },
    {
      "cell_type": "code",
      "execution_count": null,
      "metadata": {
        "id": "ZCpEyqXD2OIB"
      },
      "outputs": [],
      "source": [
        "print(juros)"
      ]
    },
    {
      "cell_type": "markdown",
      "metadata": {
        "id": "GQ41utRW2Uay"
      },
      "source": [
        "### **1.5. Conversão**"
      ]
    },
    {
      "cell_type": "markdown",
      "metadata": {
        "id": "fxTg8L1P2YxV"
      },
      "source": [
        "Podemos converter alguns tipos de variáveis em listas, como *strings*."
      ]
    },
    {
      "cell_type": "code",
      "execution_count": null,
      "metadata": {
        "id": "Nu_xesDj2Zfv"
      },
      "outputs": [],
      "source": [
        "email = 'bruno.oliveira@gmail.com'\n",
        "caracteres_email = list(email)\n",
        "\n",
        "print(email)\n",
        "print(caracteres_email)"
      ]
    },
    {
      "cell_type": "markdown",
      "metadata": {
        "id": "erx5UGpP26zZ"
      },
      "source": [
        "### **1.6. Revisitando a motivação**"
      ]
    },
    {
      "cell_type": "code",
      "execution_count": 24,
      "metadata": {
        "id": "Bbp1k_Ks277R"
      },
      "outputs": [],
      "source": [
        "dia_11_saldo_inicial = 1000"
      ]
    },
    {
      "cell_type": "code",
      "execution_count": null,
      "metadata": {
        "id": "fkEVmmVg2-Fu"
      },
      "outputs": [],
      "source": [
        "dia_11_transacoes = []\n",
        "\n",
        "dia_11_transacoes.append(243)\n",
        "dia_11_transacoes.append(-798.58)\n",
        "dia_11_transacoes.append(427.12)\n",
        "dia_11_transacoes.append(-10.91)\n",
        "\n",
        "print(dia_11_transacoes)"
      ]
    },
    {
      "cell_type": "code",
      "execution_count": null,
      "metadata": {
        "id": "1dDYF29P3AWI"
      },
      "outputs": [],
      "source": [
        "dia_11_saldo_final = dia_11_saldo_inicial + dia_11_transacoes[0] + dia_11_transacoes[1] + dia_11_transacoes[2] + dia_11_transacoes[3]\n",
        "print(dia_11_saldo_final)"
      ]
    }
  ],
  "metadata": {
    "colab": {
      "provenance": []
    },
    "kernelspec": {
      "display_name": "Python 3.11.0 64-bit",
      "language": "python",
      "name": "python3"
    },
    "language_info": {
      "codemirror_mode": {
        "name": "ipython",
        "version": 3
      },
      "file_extension": ".py",
      "mimetype": "text/x-python",
      "name": "python",
      "nbconvert_exporter": "python",
      "pygments_lexer": "ipython3",
      "version": "3.11.0"
    },
    "vscode": {
      "interpreter": {
        "hash": "c261aea317cc0286b3b3261fbba9abdec21eaa57589985bb7a274bf54d6cc0a7"
      }
    }
  },
  "nbformat": 4,
  "nbformat_minor": 0
}
