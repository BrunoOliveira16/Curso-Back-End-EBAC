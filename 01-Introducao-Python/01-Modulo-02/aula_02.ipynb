{
 "cells": [
  {
   "cell_type": "markdown",
   "metadata": {},
   "source": [
    "## Módulo 2 - Estrutura de Dados\n",
    "\n",
    "### **Aula 2: Conjuntos**"
   ]
  },
  {
   "cell_type": "markdown",
   "metadata": {},
   "source": [
    "### **2.1. Motivação** "
   ]
  },
  {
   "cell_type": "markdown",
   "metadata": {},
   "source": [
    "Você trabalha como analista de dados de mídias sociais e precisa descobrir todas as hashtags que alcançaram o top trending do Twitter durante uma semana. Você já conseguiu as hashtags por dia da semana:"
   ]
  },
  {
   "cell_type": "code",
   "execution_count": 2,
   "metadata": {},
   "outputs": [],
   "source": [
    "hashtags_seg = ['#tiago', '#joao', '#bbb']\n",
    "hashtags_ter = ['#sarah', '#bbb', '#fiuk']\n",
    "hashtags_qua = ['#gil', '#thelma', '#lourdes']\n",
    "hashtags_qui = ['#rafa', '#fora', '#danilo']\n",
    "hashtags_sex = ['#juliete', '#arthur', '#bbb']"
   ]
  },
  {
   "cell_type": "markdown",
   "metadata": {},
   "source": [
    "Um simples concateção de listas fará com que a hashtag #bbb, entre outras, apareça mais de uma vez."
   ]
  },
  {
   "cell_type": "code",
   "execution_count": null,
   "metadata": {},
   "outputs": [],
   "source": [
    "hashtags_semana = hashtags_seg + hashtags_ter + hashtags_qua + hashtags_qui + hashtags_sex\n",
    "print(hashtags_semana)"
   ]
  },
  {
   "cell_type": "markdown",
   "metadata": {},
   "source": [
    "### **2.2. Definição** "
   ]
  },
  {
   "cell_type": "markdown",
   "metadata": {},
   "source": [
    "Armazenam sequências imutáveis e desordenadas valores, sem repetição. São do tipo `set`:"
   ]
  },
  {
   "cell_type": "code",
   "execution_count": null,
   "metadata": {},
   "outputs": [],
   "source": [
    "frutas = {'banana', 'maca', 'uva', 'uva'}\n",
    "\n",
    "print(frutas)\n",
    "print(type(frutas))"
   ]
  },
  {
   "cell_type": "markdown",
   "metadata": {},
   "source": [
    "### **2.3. Operações**"
   ]
  },
  {
   "cell_type": "markdown",
   "metadata": {},
   "source": [
    "As operações da estrutura do tipo *set* são:\n",
    "\n",
    "\n",
    "*   `-` (diferença)."
   ]
  },
  {
   "cell_type": "markdown",
   "metadata": {},
   "source": [
    "**Exemplo**: Países da europa."
   ]
  },
  {
   "cell_type": "code",
   "execution_count": 4,
   "metadata": {},
   "outputs": [],
   "source": [
    "norte_europa = {'reino unido', 'suecia', 'russia', 'noruega', 'dinamarca'}\n",
    "escandinavia = {'noruega', 'dinamarca', 'suecia'}"
   ]
  },
  {
   "cell_type": "code",
   "execution_count": null,
   "metadata": {},
   "outputs": [],
   "source": [
    "norte_europa_nao_escandivano = norte_europa - escandinavia\n",
    "print(norte_europa_nao_escandivano)"
   ]
  },
  {
   "cell_type": "code",
   "execution_count": null,
   "metadata": {},
   "outputs": [],
   "source": [
    "escandivano_nao_norte_europa = escandinavia - norte_europa\n",
    "print(escandivano_nao_norte_europa)"
   ]
  },
  {
   "cell_type": "markdown",
   "metadata": {},
   "source": [
    "### **2.4. Métodos**"
   ]
  },
  {
   "cell_type": "markdown",
   "metadata": {},
   "source": [
    "São métodos nativos do Python que nos ajudam a trabalhar no dia a dia com conjuntos."
   ]
  },
  {
   "cell_type": "code",
   "execution_count": null,
   "metadata": {},
   "outputs": [],
   "source": [
    "cursos = {'Exatas', 'Humanas', 'Biológicas'}\n",
    "print(cursos)"
   ]
  },
  {
   "cell_type": "code",
   "execution_count": null,
   "metadata": {},
   "outputs": [],
   "source": [
    "# inserir um elemento no conjunto: set.add(val)\n",
    "cursos.add('Saúde')\n",
    "print(cursos)"
   ]
  },
  {
   "cell_type": "code",
   "execution_count": null,
   "metadata": {},
   "outputs": [],
   "source": [
    "# remover um elemento no conjunto: set.remove(val)\n",
    "cursos.remove('Saúde')\n",
    "print(cursos)"
   ]
  },
  {
   "cell_type": "markdown",
   "metadata": {},
   "source": [
    "### **2.5. Conversão**"
   ]
  },
  {
   "cell_type": "markdown",
   "metadata": {},
   "source": [
    "Podemos converter conjuntos para lista e vice e versa."
   ]
  },
  {
   "cell_type": "code",
   "execution_count": 8,
   "metadata": {},
   "outputs": [
    {
     "name": "stdout",
     "output_type": "stream",
     "text": [
      "{'Palmeiras', 'Santos', 'São Paulo', 'Corinthians'}\n",
      "<class 'set'>\n"
     ]
    }
   ],
   "source": [
    "times_paulistas = {'São Paulo', 'Palmeiras', 'Corinthians', 'Santos'}\n",
    "\n",
    "print(times_paulistas)\n",
    "print(type(times_paulistas))"
   ]
  },
  {
   "cell_type": "code",
   "execution_count": 9,
   "metadata": {},
   "outputs": [
    {
     "name": "stdout",
     "output_type": "stream",
     "text": [
      "['Palmeiras', 'Santos', 'São Paulo', 'Corinthians']\n",
      "<class 'list'>\n"
     ]
    }
   ],
   "source": [
    "print(list(times_paulistas))\n",
    "print(type(list(times_paulistas)))"
   ]
  },
  {
   "cell_type": "markdown",
   "metadata": {},
   "source": [
    "### **2.6. Revisitando a motivação**"
   ]
  },
  {
   "cell_type": "code",
   "execution_count": 11,
   "metadata": {},
   "outputs": [
    {
     "name": "stdout",
     "output_type": "stream",
     "text": [
      "['#tiago', '#joao', '#bbb', '#sarah', '#bbb', '#fiuk', '#gil', '#thelma', '#lourdes', '#rafa', '#fora', '#danilo', '#juliete', '#arthur', '#bbb']\n",
      "15\n"
     ]
    }
   ],
   "source": [
    "print(hashtags_semana)\n",
    "print(len(hashtags_semana))"
   ]
  },
  {
   "cell_type": "code",
   "execution_count": 12,
   "metadata": {},
   "outputs": [
    {
     "name": "stdout",
     "output_type": "stream",
     "text": [
      "['#fiuk', '#danilo', '#joao', '#juliete', '#tiago', '#arthur', '#sarah', '#gil', '#thelma', '#bbb', '#fora', '#rafa', '#lourdes']\n",
      "13\n"
     ]
    }
   ],
   "source": [
    "hashtags_semana = list(set(hashtags_seg + hashtags_ter + hashtags_qua + hashtags_qui + hashtags_sex))\n",
    "\n",
    "print(hashtags_semana)\n",
    "print(len(hashtags_semana))"
   ]
  }
 ],
 "metadata": {
  "kernelspec": {
   "display_name": "Python 3.11.0 64-bit",
   "language": "python",
   "name": "python3"
  },
  "language_info": {
   "codemirror_mode": {
    "name": "ipython",
    "version": 3
   },
   "file_extension": ".py",
   "mimetype": "text/x-python",
   "name": "python",
   "nbconvert_exporter": "python",
   "pygments_lexer": "ipython3",
   "version": "3.11.0"
  },
  "orig_nbformat": 4,
  "vscode": {
   "interpreter": {
    "hash": "c261aea317cc0286b3b3261fbba9abdec21eaa57589985bb7a274bf54d6cc0a7"
   }
  }
 },
 "nbformat": 4,
 "nbformat_minor": 2
}
