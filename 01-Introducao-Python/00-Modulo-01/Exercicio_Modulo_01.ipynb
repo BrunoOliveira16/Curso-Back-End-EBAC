{
  "cells": [
    {
      "cell_type": "markdown",
      "metadata": {
        "id": "NREUqs4oEmCc"
      },
      "source": [
        "**Exercícios**\n",
        "\n",
        "**1. Google Colab**\n",
        "\n",
        "Crie uma célula de código que escreva o texto \"Olá mundo!\", utilize o comando print. Crie uma célua de texto e adicione uma imagem."
      ]
    },
    {
      "cell_type": "code",
      "execution_count": null,
      "metadata": {
        "id": "U3LmM6KqEdE0"
      },
      "outputs": [],
      "source": [
        "print(\"Olá, Mundo!\")"
      ]
    },
    {
      "cell_type": "markdown",
      "metadata": {
        "id": "HkbEfZhIFAGr"
      },
      "source": [
        "![wallpaper-726567.png](data:image/png;base64,iVBORw0KGgoAAAANSUhEUgAAAoAAAAF5CAIAAACA2gw4AAAAA3NCSVQICAjb4U/gAAAABmJLR0QA/wD/AP+gvaeTAAAAX3pUWHRSYXcgcHJvZmlsZSB0eXBlIEFQUDEAAAiZ40pPzUstykxWKCjKT8vMSeVSAANjEy4TSxNLo0QDAwMLAwgwNDAwNgSSRkC2OVQo0QAFmJibpQGhuVmymSmIzwUAT7oVaBst2IwAABlGSURBVHic7d3rd1TXmefx37PPpS4SiJu5Y8BgGzvxNTiJ07GTdGYmzky8uqd7Zc38iTNr1vSsyayZdJykkzheju9x4hgnxmAwBoMRYLBQXc45+5kXVSVKBqlKgAQS38/ihY1KW2frHPZz9u3ZEgAAAAAAAAAAAAAAAAAAAAAAAAAAAAAAAAAAAAAAAAAAAAAAAAAAAAAAAAAAAAAAAAAAAAAAAAAAAAAAAAAAAAAAAAAAAAAAAAAAAAAAAAAAAAAAAAAAAAAAAAAAAAAAAAAAAAAAAAAAAAAAAAAAAAAAAAAAAAAAAAAAAAAAAAAAAAAAAAAAAAAAAAAAAAAAAAAAAAAAAAAAAAAAAAAAAAAAAAAAAAAAAAAAAAAAAAAAAAAAAAAAAAAAAAAAAAAAAAAAAAAAAAAAAAAAAAAAAAAAAAAAAAAAAAAAAAAAAAAAAAAAAAAAAAAAAAAAAAAAAAAAAAAAAAAAAAAAAAAAAAAAAAAAAAAAAAAAAAAAAAAAAAAAAAAAAAAAAAAAAAAAAAAAAAAAAAAAAAAAAAAAAAAAAAAAAAAAAAAAAAAAAAAAAAAAAAAAAAAAAAAAAAAAAAAAAAAAAAAAAAAAAAAAAAAAAAAAAAAAAAAAAAAAAAAAAAAAAAAAAAAAAAAAAAAAAAAAAAAAAAAAAAAAAAAAAAAAAAAAAAAAAAAAAAAAAAAAAAAAAAAAAAAAAAAAAAAAAAAAAAAAAAAAAAAAAAAAAAAAAAAAAAAAAAAAAAAAAAAAAAAAAAAAAAAAAAAAAAAAAAAAAAAAAAAAAAAAKy+50xeA5WWJrC6ryUyKoz4dZLmsLkskl3wlrhC3k8lyhbqUykbeQZOlsrpCJonbDaw0AvBaZonSB6zx/VD7hoWm4hfy9mKfTzap9m1rPBfS3dKsxSsr3iibFK77Y3dTgXe3sEn1b1rjeyG937zli99By5UdssYPQv64KVW8KBUreK3LZ6GbvtwPc+/nAmNL7/QFYDnlqj1jk//VwibrvBbLc4qXfcFmyJTebxP/FPLHrfrMZ8pYnpF3V+5iLVO6x5LdFpqD/rdJpnjZixNenZfKJRaYK91r6S6z+vwCL3lxwqtpqVqemtw56W6b+IdQO2zV5z7jVp5xby34YZtQ/Xmb+IdguVq/jtVpL2dX8FqXR5hUut+SrWbZYMgnyKOqc16e9Hh5ucJwWKd0n4WNqj5TecoXf9MFegjAa5llSncr2WHWULo/hA0jAk7YrHSfhfWyxJKdpmQF+79ByQ5rvhjqf2dhvTz246UlKs/47C+89VKMF5dSYKJ0t038Y6h928LEoMAgCyo/8dmfx9avPV5ertrcKWGj0v1m65Wkluw2S3yRW2h1S/daslUKSvebTaxAJ3F5Wa78UZv455A9apbJK0myRB5VvO9X/7d3Xo++HL38ROlBm/xpyA6o85bP/E+Vx1f3bxIrgwC8ppmUmnqzv8mo8TGTElmQYu8bV3So1jKle5U/qeyQ+hfsUiU3ZVNWu6DOGxYvLqFRs1zpPsuftOxBSYMecK/A9VY7Hzpvxnh5zbWSQUoGdzAZdQdN1msAXJbKVv/waZhU9rDlT1iye/AIRXmUTFa34ph3/rgsw+yWKnvQ8m9YslVulr5WlR+v9pcZrAQC8JrmUnUtmI1ehBWvNVuqVrQF8UrxoqqzipdkjUHTWUkuayrZrFBbYomlqotenvV0j1m9X6+5AsNm2VILXBV86A6OvN29X0jsD9Iu1lleJWJH1edenVOYGryI9J6iRGFCYaMsWZ6H2hSmFCZlQcmUwqTJFp7rAQYIwPeAVbGeuVRxwmf/r5cn3NZJUaFp+RNK95iZbOl9cS9UHvPZn3l51G1SigoTyp+ydKf1ZoIxz93/hIzBZ9X5k5THbL8sl6KSbZY/aWGjpJt5isZlgz/Oo4UlIADjbuGz6rweO+/IguQK99n6DSE9cPPrV+OMOq/Gzpv9ApMdNrXVsv29H3ZbLx13CVd1zlsveXswgZI/ZenBkGwz7yxnF9+HXnN5tDA2AjDuGi4vpKLfglljycueRxQ4671lz7SQa5nLO/LO4P9mV6RXSq8XN4UAjFuWyK7fT+7yeGv7fEauGlsiC7e1wCC7fpXTrdf67meyG96awZz9uIIsSDaYh54rPrkuPcFSSx6+2Oz2RccbVnzu2nitw9IRgHELTGGD8kOW7DarDdogk1w+6+VplR95dWnNtU1BYUrZfkt3yyZNYdDHcvmsV2dVHPc43d8Dc7cwhYasrnj1Wu/wZoppKN1t6T4lm0zZ0B0vvLqg8oTKUz5O+ZYq2aX8EbO6FUe9OObelkxho/JDlu421fqrw1SpOufFB16eu5k3m9v16FmqZIeyg5Zss2utZqlq2osPVZ33Nf7WheVBAMbNSpXuUe2Z0HjOsofMhrNnuOIVlce8/aq3X/fy0zXUPKVK77f6YcsPW/6QwoZ5ATjOqPzYO297581YHL2lUHc7mZItyp+wdJsVx737vscrN1XIJuVPWO2bln/d0u2mfOirXZVnvPued15X5z2Pl0YVVlftW2Hyn80mrfWSV+dj1fZku+rPhcb3LXvQrHEtAJcnvP2qt1/24iNfll28o1iu7BFrfNfyw5beb5YNvlCoPOvtl9X6bbz2AgqMjQB8b+itYyoXbSPiqA8MS5UdUPMnof6dkGyVNb86Cm0TChssbLdkR2y9pDvVdN5elit7yBr/IdS/rWSbWVM2f7e0TShMWa+P2Pq5d95zv3rnLnfuqlLlj4XJn1qyy7ofeGzH7rtL3CQTlGyzxves8ffWT9WSzx+MjcomLNlm6QMe7vP27706v9iPsLplByzda5YrO6RksxTU/HFo/Ciku2SNoccpKj1ozS2WbIoz/8OLj1d6hN+ayr9uEy+G/CkLm2T1oQ3TUdk6s1xWC8mOwQQEMDYC8L2h10XLZPWFP2PSmBNmibJ9mngx1L8Xku1SlM9e1/QEWa5sn8JkCOvj1X9R96+rvB+cKnvIJn4a6s9Y2CSZvCNvzX9lSfpjlfV1Iax3pd55M975fnCi9H5lj1rYKJklW5f47aawxZovhMYLlu6WZVKpODO/4ialChuVf93CerN6nP1XxQsLR+BEYZ2UyV3Jxt5OIWv8+5DulCRvDQ3gm5Qq2aba4VCeUvwiVtNLvP5bYHXVnrHJ/xyyxyxMSlF+dehRD7JMyU41fjgYCFnVTzhWHAH4nuCFwoSaL4Ta437jRaEumdJ9pkwjuqqmZLvqz4f634Vkq7yt8oR3/+zVuXmNZrJZtcOWHrRkm+rPhmo6xitenh4jO8TdKt1u9edC/VuWbJEXKk+p+04sz8jnlmqbkvuUP2nZAQtTqj1l1QVV01YcvdNvHibLpUSqZPkg+9X43z2h2tNWf76/gyt+oe6fvPu3eVmmw4SyQ5Y/bmG9sgfV+EGozsb2q4tlopb6ozJhgxr/LiRblO6SF6rOqfueFyfc27KgZIfyb4Rsv8IW5U9Y+02rpldqqDdRer8az1n+tFlT3lbxoXf/5PFCf0dT2KTaE5Y9ZMkueXcpA0iAJALwvaKQNdX44aiUFj7GQLQpOxjqz1qyTapUHPHZX8XOa16dHwqupjCl8kxovqD8UbMNqj1lxRGrPvPVOkZnSvcqf9psnbxQeVqt38TWz738zOfVepMaZ4P9WOkBs7ryx6z7FytP+J1fkDW3UTUuOUgkG6122NI9khS/UOdtn/1Z7L7nwwd1WE35k6Yy1J42W9//XXX/omrxACx5JWsqOyRLFTuqPlH7D976TSyOuwrJlO6xsNmzA2YTSncoTCyx4rfAMuWPhPxRs1zeUvFXn/25t1+Jcyc6hClVp0Lzx8q+di31NDA+AvC9oXcOQX1E78cLeXtEA21B6Val95vVFa+o/Qdv/fIGh8xUn6v1UrR6SB+wsF7pTku2mMIq7iCEDUp3KNTlLXXf9dZLXnzy1a5tdVat38SwPkzsMNukZKuSLXfHEXW3sE/G6kp3KqyXgspPvfWL2Hn3q11b76rzjlstJjtCvsHClNKdstp4KVSCLJN3VRxT+99i67exOn1tXKE6r+qiJFlNqq/oAaq9pdrJTrNM1SW1fuOt3847EaQ6r9bL0YvQdOWP2Ojk28B8BOB7g0ml4pVRI8BhsKpo8WazJmtIiTyqml7w0Nl4WfG8VMkS2TrZxGpunkyWy+r9WpenvTx9o4FlV3VO5Qn3QpYo1GQ1ma3ygclEVpdlkiteUvHRjQeW/aqK44qX+zukrX6j3eEL8FkVx7z1C2+97NXn855SL7w67eVpS9ar/ETxy9tQoXGZrDF41LsqT/n153HFi2r/ISoEC8q+Zjf/sjV3TLWNl8cbawIB+N6QK36h1i9j+fHCxwGbsofV+GGwpjTmMcCDE3ZvHFnnzifvna202vsHvfH7XhWKhZvIXvqtuQ2yq7rKc+ZqUQ3NeV+vmL94apyCE8Uv1fmzt3/tnTdideG6l7muOm+6hRim1H3fq89W9GXGNKjIwgus4kV1Xo/Zg+EmA3BQmLJkp8Jg55V3VH6meOlOLx3A8iMA3xMsk8+q/Yp3312s/apfDo3nZemodViSJC+loNqTQVqgpTDlT5iCvFxzqYJGHfO31szdu8VfKYa/Os7tNilTvKz2v3nr5ehXb/BdXqo45vGCW13VRY1Y1XXb+VjvUvGyemdLL/m8B1O6XbXvWv6IWUMeZUHeUXHU2694eXJt/avBdQjA95bFI6vLlxA8Slmi+vet/pwWbJx6WSrLBZIXrl4jA/Dai8E9t/vNwxJ5y8uT7jMLf6hUNX3zZ3LcNmO+eSyxzHS/Tbxo6T5TlLvMpKD8UYvTXp26C5bvYTkRgO8NPhgHXqQVC0uYtOuXKYV1snzBtsdLqZQSeWdoYBYY5uOtH16jD49NKtlqYVLelvX+neZKtsrWmWyN1hkDBOB7yTL8c/ZiVPKBRN5R9wO/K3bjrJi12nIuR71sKLfU3WyRut/aDItLXl4bnbJErrU7iIIhBGDcrFRqq/O2l8cXPmnVenNaXnzoxQerf1HJXJu4+CLVoZ3Ba8TwzO7i2UyHZ4vXgHEqbgobLNk4+NgSy7feovEwCLo++Mu18QvEogjAWDrrb1iKUe1XvfWLOCIgubxY/UPQLp9rhbOFp7R7aafmls7eQXHwYjSco3j4v78SLxdp8ec+luraUQTXsUxKhs6GutkLv41uNYwN6mA2WMZ/Xa3CJqs/a9khk5aeC9oVZ1Rd8GST2eQg+krVJcUvF36vxVpBAMbSVf2FzRaU3CerW/X5MjQVc7shTe6L7n4Zjw8KNA0Sfi3hm+Ud+VVpSgpK91i6x4pj1/XpTcl2S/ebZfJScVbeumPNqGWyVC4pkc2dXGSy3BS8n5ZyeNZ/oeus5LPyrhQUNip7MFQXos9e9+MmlR60ZIMU5aV89q5IjOxzad1MqpZ4Sa7YUmwpZL3E5lYc8erivF9U2Kz6d635nyx7yPqJxpZ2fSpPqv07V6kwZSqlVPGqd1734qizG3jNIwBjiVzVea9OyXJZrvpz5lc1+8tFM+/HQfAbGYrmTrk3ae68HZeZLJPVllja/AIt72/TdJeClM8vcFTTHKdVnvCw0SxT/qQ1L9nsv6r8dF4rGbZY4wdW/04ITamr6lOvzqzswHtH/qV71yQluyw7YMVfPd1v6f1mJi97x1hZusviF549ZMlm8yh15V/6Qm8kftXLjz07YGGz0t3W/JG8a90/zU9FWVf+tDV/ZOkO86hqWuWJUYmgl08iC4OHJx0ajUikmqzsp+T0UfkuvFR52qvTHupmk6p/37xj7Ze9Ghy2GDZY/bvWfMGyR8xSeXfpYx6u6qzP/h913nYb2gdcfabq7N0xhoDlRADG0nhUcUyddz3ZZrZB2T6zF5RsVXXhRgmfTCpVXVT5iZcnF8yZ1f9srnSfsgcsbDbLFSaV7pZ3ezmWrfmTUE27ClWXvDyp4vjok/6spmy/0v2WbDZlClNKtvfP6E222MSLVl00FaouenlSxcd+fa9uqNoqPvbOGzF9IEm3K92p+g9C2OjVGR9OPRG2qPa4pftlNcUr6vzRu++v6DmM1bS6f/OwzcKk0gM28U+hPOXJDssOmbusK0tVe8asZvFLyw5askOKqqZV/E3xyo3vTXVJ7dc8e9DzLRamlH/DlIf88Xnx1ZrKHrb8a2brJKk87p03fKECv+q2TnaG9coOWrpHYcqUKt1loWnellfKDtrkfwnelre9+lzlcS9PLTay4l0VR9R939M91qugZSHd49WlwRaAjcofs+xBs7rUHUpltRS9HFvlqZuvMlYvAvCa1pu46u3BHWcnbhhMdIWFE1e5qjPefiUmW0PtGQuTSvdasnuBdItBKlRNe3HUZn8WO2/5gu1donSPNf+j1b5pyRZZw3o/S125FDaq+aJJpq7iF955x2f+m4pji7bvqdJ91vxJqB1W2Cyr9wvs9duS+9T8xyDJO4qXvPOWz/x3lScWK7C6oPZrSvZ6/VnrHd2TbDNV839Hg1ye1SV1/ujtV7xa2QOgqrPe/oOl+5Q9rGSzkueHpnat/zyke5TuGTwKvbQPH3r7De+lkriet9V931svu61XusfCetW+ZbXD8++4Saks6Z2OpdbvvHvEFzuHcXn6dtZQ/nVr/iTkjyhMmbL+D+pdSfZgf6DYZ706r9av/Or/in5l4eKiyk+9/XtLNnn+RO+gJ0v3D1XcZLm8VHlKFhQ23gWblbGqEIDXNJe6/XEtdUfNerrUWyqVyCtp4fE0b6v7Z1eI8lB7ysKUQnOxF/+wwcKUuu9a550FG6de4vv8iZA/MggVvXnfXv+yF9iCJIUtFlsKUyPaOcuU7rb8KcseHipwLoVkkA0OP07uszhjYd3IMWiVJ/3qv0Sfsfqzlmw3m7hWSP83U8pnFae9867P/j/v/mWld17FGXXf8+7Dnmy1ZLssXKt4nJF3ZROD4+4Hf1+e9M6bXvxt4XjpipfV+pV7oeYP1Ttdwxrz3+eiYqefKbr1S2/93uMiiTUkrxSvyLuyvP8ft4U1lB60/ClLdw7WgkV5KcVrKwdl0pSFLSqOD02NL3SdbXXeij5rzRmrPRXCFoXJoYrH3tFY3v6dhw3W+J6FSfns6BNNgB4C8FrmXRXHvPhIySZ1j3i8OKJdqD5XccQtU3lG5ckFJwWl/olAPhOrs1b/Tkjuk3Tj1UaWSoW6R7w8tdiiEi9UnVX1iVe7zXL5Dad4rZ84qfho9PCmd1V+5uUnnmwdVeCMlx/5OFn+vVBx1K+2VJ5S7bCyhxQ22Lx1v196+bHab3v3rVgc12JdwGXiqs57+9WY7Aq1hlkY3JSOd494dVr5Y5bs7b8yWFCcVedt77w5qvq9Yn/t8XPLn7HaY5Zsl/JBX9Ckjpdn1H1PnTe8+36MX4y6zJZ33/fskMI6dd71atTnx+Szqj7tz9rKFliTbLKgatrLEz5O4PeWuu+5t1WeiLVvWfaAaS5sF6o+9dbvvPWyp3uU7pAX6r7P9C3GxV6zNS0o3aXsYQsTVn7ixYceF503DVPKHrZ0p8XL3v3gq+fS3Lj8vZY/bGFKC7V31jtJ5kQvai46B1xXdsiyfWb1wZ6fr3zAJFNseXnCi480eg64qfwRS+83qw3tIPpKgUE+48XHXhzXYnPA84UpZfss2SWbtGt7N13e8vKcyhNeTd/JA23ChGWPKt0/FIALL08pXvB0n4X7BgHY+mmHi6OLDhcPsbqSXcr2Wtho897eC48XVZ708vR43dmgZJvyQ2Z1K456+clYsXAcYbPyr1myzSxZ4IHsPUWXvPuhl6fGXgwflNyn7KAl24cqXil+7t2jXp1V2KD8UUs2W3naiw/Hep8DCMBr3dyRROPskbDB58c/ub03sjeYsb3h111jn7AWpLDYPJppEErHDG+3vcDhkq/fO3tzRS2H0E8vda3ivRsarl3z0m7NHJtXyDXjPzPD5WiJ3zVmsTbGTb+Jnxv01YUUw+UMBvzvigcAAAAAAAAAAAAAAAAAAAAAAAAAAAAAAAAAAAAAAAAAAAAAAAAAAAAAAAAAAAAAAAAAAAAAAAAAAAAAAAAAAAAAAAAAAAAAAAAAAAAAAAAAAAAAAAAAAAAAAAAAAAAAAAAAAAAAAAAAAAAAAAAAAAAAAAAAAAAAAAAAAAAAAAAAAAAAAAAAAAAAAAAAAAAAAAAAAAAAAAAAAAAAAAAAAAAAAAAAAAAAAAAAAAAAAAAAAAAAAAAAAAAAAAAAAAAAAAAAAAAAAAAAAAAAAAAAAAAAAAAAAAAAAAAAAAAAAAAAAAAAAAAAAAAAAAAAAAAAAAAAAAAAAAAAAAAAAAAAAAAAAAAAAAAAAAAAAAAAAAAAAAAAAAAAAAAAAAAAAAAAAAAAAAAAAAAAAAAAAAAAAAAAAAAAAAAAAAAAAAAAAAAAAAAAAAAAAAAAAAAAAAAAAAAAAAAAAAAAAAAAAAAAAAAAAAAAAAAAAAAAAAAAAAAAAAAAAAAAAAAAAAAAAAAAAAAAAAAAAAAAAAAAAAAAAAAAAAAAAAAAAAAAAAAAAAAAAAAAAAAAAAAAAAAAAAAAAAAAAAAAAAAAAAAAAAAAAAAAAAAAAAAAAAAAAAAAAAAAAAAAAAAAAO4O/x+No2VSm0/S7gAAAABJRU5ErkJggg==)"
      ]
    },
    {
      "cell_type": "markdown",
      "metadata": {
        "id": "y33XF8_VFItB"
      },
      "source": [
        "**2. Números**\n",
        "\n",
        "Preencha as células de código para preencher os valores de (A), (B) e (C) na tabela de ticket médio abaixo:\n",
        "\n",
        "![image.png](data:image/png;base64,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)"
      ]
    },
    {
      "cell_type": "markdown",
      "metadata": {
        "id": "UpeM2dcCHv5E"
      },
      "source": [
        "Solução 1:"
      ]
    },
    {
      "cell_type": "code",
      "execution_count": null,
      "metadata": {
        "id": "XoMbOmVYFYQh"
      },
      "outputs": [],
      "source": [
        "a = (320.52 * 3)\n",
        "b = (834.47 / 119.21)\n",
        "c = (15378.12 / 5)\n",
        "\n",
        "print(a)\n",
        "print(int(b))\n",
        "print(c)"
      ]
    },
    {
      "cell_type": "markdown",
      "metadata": {
        "id": "FsgiTpeJHykH"
      },
      "source": [
        "Solução 2:"
      ]
    },
    {
      "cell_type": "code",
      "execution_count": null,
      "metadata": {
        "id": "KPlCZsFyG6ZR"
      },
      "outputs": [],
      "source": [
        "# Informações sobre vendas 19/01 (A):\n",
        "qtd_total_A = 3\n",
        "tkt_medio_A = 320.52\n",
        "\n",
        "valor_total_A = (qtd_total_A * tkt_medio_A)\n",
        "print(valor_total_A)"
      ]
    },
    {
      "cell_type": "code",
      "execution_count": null,
      "metadata": {
        "id": "2tCZOyvfH9Z6"
      },
      "outputs": [],
      "source": [
        "# Informações sobre vendas 20/01 (B):\n",
        "valor_total_B = 834.47\n",
        "tkt_medio_B = 119.21\n",
        "\n",
        "qtd_total_B = (valor_total_B / tkt_medio_B)\n",
        "print(int(qtd_total_B))"
      ]
    },
    {
      "cell_type": "code",
      "execution_count": null,
      "metadata": {
        "id": "It0OhCztIniB"
      },
      "outputs": [],
      "source": [
        "# Informações sobre vendas 23/01 (C):\n",
        "valor_total_C = 15378.12\n",
        "qtd_total_C = 5\n",
        "\n",
        "tkt_medio_C = (valor_total_C / qtd_total_C)\n",
        "print(tkt_medio_C)"
      ]
    },
    {
      "cell_type": "markdown",
      "metadata": {
        "id": "fP_1RTKkJbpE"
      },
      "source": [
        "**3. Strings**\n",
        "\n",
        "Aplique três métodos distintos na string abaixo:"
      ]
    },
    {
      "cell_type": "code",
      "execution_count": 16,
      "metadata": {
        "id": "aGTBJWzaJjxp"
      },
      "outputs": [],
      "source": [
        "cancao = 'roda mundo, roda gigante, roda moinho, roda pião.'"
      ]
    },
    {
      "cell_type": "code",
      "execution_count": null,
      "metadata": {
        "id": "IQ9p87IiMG75"
      },
      "outputs": [],
      "source": [
        "# Método upper: Converte uma string em letras maiúsculas\n",
        "print(cancao.upper())"
      ]
    },
    {
      "cell_type": "code",
      "execution_count": null,
      "metadata": {
        "id": "h-K9Hg1BMVju"
      },
      "outputs": [],
      "source": [
        "# Método title: Converte o primeiro caractere de cada palavra para maiúscula\n",
        "print(cancao.title())"
      ]
    },
    {
      "cell_type": "code",
      "execution_count": null,
      "metadata": {
        "id": "TY-jq8lANCrN"
      },
      "outputs": [],
      "source": [
        "# Método count: Retorna o número de vezes que um valor especificado ocorre em uma string\n",
        "print(cancao.count('roda'))"
      ]
    },
    {
      "cell_type": "markdown",
      "metadata": {
        "id": "V6AooDXoN156"
      },
      "source": [
        "Extraia da string abaixo o valor da taxa selic na variável selic e o valor do ano na variavel ano. Imprima os valores na tela."
      ]
    },
    {
      "cell_type": "code",
      "execution_count": 3,
      "metadata": {
        "id": "Hu0lEKfhN6VW"
      },
      "outputs": [
        {
          "name": "stdout",
          "output_type": "stream",
          "text": [
            "Selic vai a 2,75% e supera expectativas; é a primeira alta em 6 anos.\n",
            "64\n"
          ]
        }
      ],
      "source": [
        "noticia = 'Selic vai a 2,75% e supera expectativas; ' + 'é a primeira alta em 6 anos.'\n",
        "print(noticia)\n",
        "\n",
        "#Loclaizar posição\n",
        "posicao = noticia.find('ano')\n",
        "print(posicao)\n",
        "\n"
      ]
    },
    {
      "cell_type": "code",
      "execution_count": 4,
      "metadata": {
        "id": "1oG_d8RtRFDL"
      },
      "outputs": [
        {
          "name": "stdout",
          "output_type": "stream",
          "text": [
            "2,75\n"
          ]
        }
      ],
      "source": [
        "#Valor da Selic\n",
        "selic = noticia[12:16]\n",
        "print(selic)"
      ]
    },
    {
      "cell_type": "code",
      "execution_count": 5,
      "metadata": {
        "id": "9EhOIQP6ROM0"
      },
      "outputs": [
        {
          "name": "stdout",
          "output_type": "stream",
          "text": [
            "6\n"
          ]
        }
      ],
      "source": [
        "#Valor do ano\n",
        "ano = noticia[62]\n",
        "print(ano)"
      ]
    },
    {
      "cell_type": "markdown",
      "metadata": {
        "id": "K2LylN0JRwGD"
      },
      "source": [
        "**4. Booleanos**\n",
        "\n",
        "Utilize a tabela da verdade para responder: qual o valor da variável x?"
      ]
    },
    {
      "cell_type": "code",
      "execution_count": 2,
      "metadata": {
        "id": "GrqP6-LCR0gY"
      },
      "outputs": [],
      "source": [
        "a = True\n",
        "b = False\n",
        "\n",
        "x = not a & b"
      ]
    },
    {
      "cell_type": "code",
      "execution_count": 1,
      "metadata": {},
      "outputs": [
        {
          "name": "stdout",
          "output_type": "stream",
          "text": [
            "True\n",
            "True\n"
          ]
        }
      ],
      "source": [
        "print(not False)\n",
        "print(not True & False)"
      ]
    }
  ],
  "metadata": {
    "colab": {
      "provenance": []
    },
    "kernelspec": {
      "display_name": "Python 3.11.0 64-bit",
      "language": "python",
      "name": "python3"
    },
    "language_info": {
      "codemirror_mode": {
        "name": "ipython",
        "version": 3
      },
      "file_extension": ".py",
      "mimetype": "text/x-python",
      "name": "python",
      "nbconvert_exporter": "python",
      "pygments_lexer": "ipython3",
      "version": "3.11.0"
    },
    "vscode": {
      "interpreter": {
        "hash": "c261aea317cc0286b3b3261fbba9abdec21eaa57589985bb7a274bf54d6cc0a7"
      }
    }
  },
  "nbformat": 4,
  "nbformat_minor": 0
}
