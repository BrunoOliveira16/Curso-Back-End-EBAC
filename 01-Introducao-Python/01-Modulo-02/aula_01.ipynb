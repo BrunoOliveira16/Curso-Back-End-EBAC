{
  "nbformat": 4,
  "nbformat_minor": 0,
  "metadata": {
    "colab": {
      "provenance": []
    },
    "kernelspec": {
      "name": "python3",
      "display_name": "Python 3"
    },
    "language_info": {
      "name": "python"
    }
  },
  "cells": [
    {
      "cell_type": "markdown",
      "source": [
        "## Módulo 2 - Estrutura de Dados\n",
        "\n",
        "### **Aula 1: Listas**"
      ],
      "metadata": {
        "id": "NOEgQgjHsNnt"
      }
    },
    {
      "cell_type": "markdown",
      "source": [
        "### **1.1. Motivação** "
      ],
      "metadata": {
        "id": "opy8zuyCsbMN"
      }
    },
    {
      "cell_type": "markdown",
      "source": [
        "O aplicativo do seu banco registra toda a sua movimentação financeira. O final do dia, o app consolida o saldo final para que você possa controlar sua vida financeira."
      ],
      "metadata": {
        "id": "rbo3jZ14sjd4"
      }
    },
    {
      "cell_type": "code",
      "execution_count": 1,
      "metadata": {
        "id": "-o-p3lb5r3Mi"
      },
      "outputs": [],
      "source": [
        "dia_11_saldo_inicial = 1000"
      ]
    },
    {
      "cell_type": "code",
      "source": [
        "dia_11_transacao_1 = 243\n",
        "dia_11_transacao_2 = -798.58\n",
        "dia_11_transacao_3 = 427.12\n",
        "dia_11_transacao_4 = -10.91"
      ],
      "metadata": {
        "id": "m_eo0tzWsyKu"
      },
      "execution_count": 2,
      "outputs": []
    },
    {
      "cell_type": "code",
      "source": [
        "dia_11_saldo_final = dia_11_saldo_inicial + dia_11_transacao_1 + dia_11_transacao_2 + dia_11_transacao_3 + dia_11_transacao_4"
      ],
      "metadata": {
        "id": "H1D3-iS9s6g-"
      },
      "execution_count": 3,
      "outputs": []
    },
    {
      "cell_type": "code",
      "source": [
        "print(dia_11_saldo_final)"
      ],
      "metadata": {
        "id": "TCEQABNJs8LG"
      },
      "execution_count": null,
      "outputs": []
    },
    {
      "cell_type": "markdown",
      "source": [
        "Será que exista uma forma melhor de armazenar as transações diárias?"
      ],
      "metadata": {
        "id": "dqbuJkv3tDO8"
      }
    },
    {
      "cell_type": "markdown",
      "source": [
        "### **1.2. Definição** "
      ],
      "metadata": {
        "id": "PzTOoYbpuI_1"
      }
    },
    {
      "cell_type": "markdown",
      "source": [
        "Armazenam sequências mutáveis e ordenadas de valores. São do tipo `list`:"
      ],
      "metadata": {
        "id": "nq_m3jvUuOAj"
      }
    },
    {
      "cell_type": "code",
      "source": [
        "usuario_web = ['André Perez', 'andre.perez', 'andre123', 'andre.perez@gmail.com']\n",
        "\n",
        "print(usuario_web)\n",
        "print(type(usuario_web))"
      ],
      "metadata": {
        "id": "3D6-e8VHuSNr"
      },
      "execution_count": null,
      "outputs": []
    },
    {
      "cell_type": "code",
      "source": [
        "idade = 20\n",
        "saldo_em_conta = 723.15\n",
        "usuario_loggedin = True\n",
        "\n",
        "usuario_web = ['André Perez', idade, 'andre.perez', 'andre123', 'andre.perez@gmail.com', saldo_em_conta, usuario_loggedin]\n",
        "\n",
        "print(usuario_web)\n",
        "print(type(usuario_web))"
      ],
      "metadata": {
        "id": "MC3cGaDluZrQ"
      },
      "execution_count": null,
      "outputs": []
    },
    {
      "cell_type": "markdown",
      "source": [
        "### **1.3. Operações** "
      ],
      "metadata": {
        "id": "8JL5fo5cujHg"
      }
    },
    {
      "cell_type": "markdown",
      "source": [
        "As operações da estrutura do tipo *list* são:\n",
        "\n",
        "\n",
        "*   `+` (concatenação)."
      ],
      "metadata": {
        "id": "1L7MIj9Mu5hA"
      }
    },
    {
      "cell_type": "markdown",
      "source": [
        "**Exemplo**: Fabricantes de *hardware* mobile"
      ],
      "metadata": {
        "id": "ljvvRIFNu7jy"
      }
    },
    {
      "cell_type": "code",
      "source": [
        "fabricantes_mobile_china = ['xiaomi', 'huawei']\n",
        "fabricantes_mobile_eua = ['apple', 'motorola']\n",
        "fabricantes_mobile = fabricantes_mobile_china + fabricantes_mobile_eua\n",
        "\n",
        "print(fabricantes_mobile_china)\n",
        "print(fabricantes_mobile_eua)\n",
        "print(fabricantes_mobile)"
      ],
      "metadata": {
        "id": "K95P62eXvAkc"
      },
      "execution_count": null,
      "outputs": []
    },
    {
      "cell_type": "markdown",
      "source": [
        "Outra operação muito utilizada é a de fatiamento (*slicing*), semelhante ao de *strings*:"
      ],
      "metadata": {
        "id": "0QuwhOPszbMB"
      }
    },
    {
      "cell_type": "markdown",
      "source": [
        "Fatiamento fixo:"
      ],
      "metadata": {
        "id": "NXeMf6hyzkWg"
      }
    },
    {
      "cell_type": "code",
      "source": [
        "print(f'0: {fabricantes_mobile[0]}')\n",
        "print(f'1: {fabricantes_mobile[1]}')"
      ],
      "metadata": {
        "id": "A149cw93zhTw"
      },
      "execution_count": null,
      "outputs": []
    },
    {
      "cell_type": "markdown",
      "source": [
        "Fatiamento por intervalo:"
      ],
      "metadata": {
        "id": "AdLp3sHb0DPn"
      }
    },
    {
      "cell_type": "code",
      "source": [
        "fabricantes_mobile_china = fabricantes_mobile[0:2]\n",
        "fabricantes_mobile_eua = fabricantes_mobile[2:len(fabricantes_mobile)]\n",
        "\n",
        "print('china: ' + str(fabricantes_mobile_china))\n",
        "print('eua: ' + str(fabricantes_mobile_eua))"
      ],
      "metadata": {
        "id": "JIa0-88r0E4Q"
      },
      "execution_count": null,
      "outputs": []
    },
    {
      "cell_type": "markdown",
      "source": [
        "Podemos adicionar elementos a uma posição específica da lista:"
      ],
      "metadata": {
        "id": "tYdO5AL_0U09"
      }
    },
    {
      "cell_type": "code",
      "source": [
        "print(fabricantes_mobile)"
      ],
      "metadata": {
        "id": "McnVi_xq0Vvv"
      },
      "execution_count": null,
      "outputs": []
    },
    {
      "cell_type": "code",
      "source": [
        "fabricantes_mobile[2] = 'nokia'\n",
        "print(fabricantes_mobile)"
      ],
      "metadata": {
        "id": "DPp3jTD10YGH"
      },
      "execution_count": null,
      "outputs": []
    },
    {
      "cell_type": "markdown",
      "source": [
        "### **1.4. Métodos**"
      ],
      "metadata": {
        "id": "Q905Z8-I0h4p"
      }
    },
    {
      "cell_type": "markdown",
      "source": [
        "São métodos nativos do Python que nos ajudam a trabalhar no dia a dia com listas."
      ],
      "metadata": {
        "id": "0qiUEnca09_4"
      }
    },
    {
      "cell_type": "code",
      "source": [
        "juros = [0.05, 0.07, 0.02, 0.04, 0.08]\n",
        "print(juros)"
      ],
      "metadata": {
        "id": "QOlci8p01Bf6"
      },
      "execution_count": null,
      "outputs": []
    },
    {
      "cell_type": "code",
      "source": [
        "# inserir um elemento sem substituir: list.insert(index, val)\n",
        "juros.insert(0, 0.10)\n",
        "print(juros)"
      ],
      "metadata": {
        "id": "6wolwMLs1Eq4"
      },
      "execution_count": null,
      "outputs": []
    },
    {
      "cell_type": "code",
      "source": [
        "# inserir um elemento no fim da lista: list.append(val)\n",
        "juros.append(0.09)\n",
        "print(juros)"
      ],
      "metadata": {
        "id": "B6Y3cfy416Bj"
      },
      "execution_count": null,
      "outputs": []
    },
    {
      "cell_type": "code",
      "source": [
        "# remover um elemento pelo valor: list.remove(val)\n",
        "juros.remove(0.1)\n",
        "print(juros)"
      ],
      "metadata": {
        "id": "ha8sBBRl1-C-"
      },
      "execution_count": null,
      "outputs": []
    },
    {
      "cell_type": "code",
      "source": [
        "# remover um elemento pelo índice: list.pop(val)\n",
        "terceiro_juros = juros.pop(2)\n",
        "print(terceiro_juros)"
      ],
      "metadata": {
        "id": "gaIUby-_2Bjb"
      },
      "execution_count": null,
      "outputs": []
    },
    {
      "cell_type": "code",
      "source": [
        "print(juros)"
      ],
      "metadata": {
        "id": "ZCpEyqXD2OIB"
      },
      "execution_count": null,
      "outputs": []
    },
    {
      "cell_type": "markdown",
      "source": [
        "### **1.5. Conversão**"
      ],
      "metadata": {
        "id": "GQ41utRW2Uay"
      }
    },
    {
      "cell_type": "markdown",
      "source": [
        "Podemos converter alguns tipos de variáveis em listas, como *strings*."
      ],
      "metadata": {
        "id": "fxTg8L1P2YxV"
      }
    },
    {
      "cell_type": "code",
      "source": [
        "email = 'bruno.oliveira@gmail.com'\n",
        "caracteres_email = list(email)\n",
        "\n",
        "print(email)\n",
        "print(caracteres_email)"
      ],
      "metadata": {
        "id": "Nu_xesDj2Zfv"
      },
      "execution_count": null,
      "outputs": []
    },
    {
      "cell_type": "markdown",
      "source": [
        "### **1.6. Revisitando a motivação**"
      ],
      "metadata": {
        "id": "erx5UGpP26zZ"
      }
    },
    {
      "cell_type": "code",
      "source": [
        "dia_11_saldo_inicial = 1000"
      ],
      "metadata": {
        "id": "Bbp1k_Ks277R"
      },
      "execution_count": 24,
      "outputs": []
    },
    {
      "cell_type": "code",
      "source": [
        "dia_11_transacoes = []\n",
        "\n",
        "dia_11_transacoes.append(243)\n",
        "dia_11_transacoes.append(-798.58)\n",
        "dia_11_transacoes.append(427.12)\n",
        "dia_11_transacoes.append(-10.91)\n",
        "\n",
        "print(dia_11_transacoes)"
      ],
      "metadata": {
        "id": "fkEVmmVg2-Fu"
      },
      "execution_count": null,
      "outputs": []
    },
    {
      "cell_type": "code",
      "source": [
        "dia_11_saldo_final = dia_11_saldo_inicial + dia_11_transacoes[0] + dia_11_transacoes[1] + dia_11_transacoes[2] + dia_11_transacoes[3]\n",
        "print(dia_11_saldo_final)"
      ],
      "metadata": {
        "id": "1dDYF29P3AWI"
      },
      "execution_count": null,
      "outputs": []
    }
  ]
}