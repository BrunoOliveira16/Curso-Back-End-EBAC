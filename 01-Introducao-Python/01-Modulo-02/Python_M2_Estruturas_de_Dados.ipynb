{
  "cells": [
    {
      "attachments": {},
      "cell_type": "markdown",
      "metadata": {
        "id": "KJqp9AANOCtf"
      },
      "source": [
        "---\n",
        "\n",
        "# **Módulo 02** | Python: Estruturas de Dados\n",
        "Caderno de **Aula**<br> \n",
        "\n",
        "---"
      ]
    },
    {
      "cell_type": "markdown",
      "metadata": {
        "id": "d9jDtUbDOE1-"
      },
      "source": [
        "# **Tópicos**\n",
        "\n",
        "<ol type=\"1\">\n",
        "  <li>Listas;</li>\n",
        "  <li>Conjuntos;</li>\n",
        "  <li>Dicionários.</li>\n",
        "</ol>"
      ]
    },
    {
      "cell_type": "markdown",
      "metadata": {
        "id": "SmoHgt-lwkpD"
      },
      "source": [
        "---"
      ]
    },
    {
      "cell_type": "markdown",
      "metadata": {
        "id": "GABI6OW8OfQ2"
      },
      "source": [
        "# **Aulas**"
      ]
    },
    {
      "cell_type": "markdown",
      "metadata": {
        "id": "muD1vxozykSC"
      },
      "source": [
        "## 1\\. Listas"
      ]
    },
    {
      "cell_type": "markdown",
      "metadata": {
        "id": "5a3_syBIP6yO"
      },
      "source": [
        "### **1.1. Motivação** "
      ]
    },
    {
      "cell_type": "markdown",
      "metadata": {
        "id": "BmXmjEay_JOP"
      },
      "source": [
        "O aplicativo do seu banco registra toda a sua movimentação financeira. O final do dia, o app consolida o saldo final para que você possa controlar sua vida financeira."
      ]
    },
    {
      "cell_type": "code",
      "execution_count": null,
      "metadata": {
        "id": "9N1LJEm7AlyF",
        "vscode": {
          "languageId": "python"
        }
      },
      "outputs": [],
      "source": [
        "dia_11_saldo_inicial = 1000"
      ]
    },
    {
      "cell_type": "code",
      "execution_count": null,
      "metadata": {
        "id": "K_kN8YZm_5gv",
        "vscode": {
          "languageId": "python"
        }
      },
      "outputs": [],
      "source": [
        "dia_11_transacao_1 = 243\n",
        "dia_11_transacao_2 = -798.58\n",
        "dia_11_transacao_3 = 427.12\n",
        "dia_11_transacao_4 = -10.91"
      ]
    },
    {
      "cell_type": "code",
      "execution_count": null,
      "metadata": {
        "id": "oPuPUmzfAojH",
        "vscode": {
          "languageId": "python"
        }
      },
      "outputs": [],
      "source": [
        "dia_11_saldo_final = dia_11_saldo_inicial + dia_11_transacao_1 + dia_11_transacao_2 + dia_11_transacao_3 + dia_11_transacao_4"
      ]
    },
    {
      "cell_type": "code",
      "execution_count": null,
      "metadata": {
        "id": "vIGCRWomqbsl",
        "vscode": {
          "languageId": "python"
        }
      },
      "outputs": [],
      "source": [
        "print(dia_11_saldo_final)"
      ]
    },
    {
      "cell_type": "markdown",
      "metadata": {
        "id": "TfDH4namA43t"
      },
      "source": [
        "Será que exista uma forma melhor de armazenar as transações diárias?"
      ]
    },
    {
      "cell_type": "markdown",
      "metadata": {
        "id": "E6D5rjlESJ1A"
      },
      "source": [
        "### **1.2. Definição** "
      ]
    },
    {
      "cell_type": "markdown",
      "metadata": {
        "id": "ajMuhMQx3bfB"
      },
      "source": [
        "Armazenam sequências mutáveis e ordenadas de valores. São do tipo `list`:\n"
      ]
    },
    {
      "cell_type": "code",
      "execution_count": null,
      "metadata": {
        "id": "mtCBXOvB3bfd",
        "vscode": {
          "languageId": "python"
        }
      },
      "outputs": [],
      "source": [
        "usuario_web = ['André Perez', 'andre.perez', 'andre123', 'andre.perez@gmail.com']\n",
        "\n",
        "print(usuario_web)\n",
        "print(type(usuario_web))"
      ]
    },
    {
      "cell_type": "code",
      "execution_count": null,
      "metadata": {
        "id": "IDyGAYp13bfe",
        "vscode": {
          "languageId": "python"
        }
      },
      "outputs": [],
      "source": [
        "idade = 20\n",
        "saldo_em_conta = 723.15\n",
        "usuario_loggedin = True\n",
        "\n",
        "usuario_web = ['André Perez', idade, 'andre.perez', 'andre123', 'andre.perez@gmail.com', saldo_em_conta, usuario_loggedin]\n",
        "\n",
        "print(usuario_web)\n",
        "print(type(usuario_web))"
      ]
    },
    {
      "cell_type": "markdown",
      "metadata": {
        "id": "wNkFG1qKSU9M"
      },
      "source": [
        "### **1.3. Operações** "
      ]
    },
    {
      "cell_type": "markdown",
      "metadata": {
        "id": "okUlGror3kEO"
      },
      "source": [
        "As operações da estrutura do tipo *list* são:\n",
        "\n",
        "\n",
        "*   `+` (concatenação)."
      ]
    },
    {
      "cell_type": "markdown",
      "metadata": {
        "id": "gI0uX4ba3xRt"
      },
      "source": [
        "**Exemplo**: Fabricantes de *hardware* mobile"
      ]
    },
    {
      "cell_type": "code",
      "execution_count": null,
      "metadata": {
        "id": "_yq5ifl536nt",
        "vscode": {
          "languageId": "python"
        }
      },
      "outputs": [],
      "source": [
        "fabricantes_mobile_china = ['xiaomi', 'huawei']\n",
        "fabricantes_mobile_eua = ['apple', 'motorola']\n",
        "fabricantes_mobile = fabricantes_mobile_china + fabricantes_mobile_eua\n",
        "\n",
        "print(fabricantes_mobile_china)\n",
        "print(fabricantes_mobile_eua)\n",
        "print(fabricantes_mobile)"
      ]
    },
    {
      "cell_type": "markdown",
      "metadata": {
        "id": "ND9FzyEn5kFs"
      },
      "source": [
        "Outra operação muito utilizada é a de fatiamento (*slicing*), semelhante ao de *strings*:"
      ]
    },
    {
      "cell_type": "markdown",
      "metadata": {
        "id": "Y8b_DalN5x3D"
      },
      "source": [
        "Fatiamento fixo:"
      ]
    },
    {
      "cell_type": "code",
      "execution_count": null,
      "metadata": {
        "id": "sDxRHUKp5wFw",
        "vscode": {
          "languageId": "python"
        }
      },
      "outputs": [],
      "source": [
        "print(f'0: {fabricantes_mobile[0]}')\n",
        "print(f'-1: {fabricantes_mobile[-1]}')"
      ]
    },
    {
      "cell_type": "markdown",
      "metadata": {
        "id": "-xHG7dS16Qb4"
      },
      "source": [
        "Fatiamento por intervalo:"
      ]
    },
    {
      "cell_type": "code",
      "execution_count": null,
      "metadata": {
        "id": "09r1FMtN6USi",
        "vscode": {
          "languageId": "python"
        }
      },
      "outputs": [],
      "source": [
        "fabricantes_mobile_china = fabricantes_mobile[0:2]\n",
        "fabricantes_mobile_eua = fabricantes_mobile[2:len(fabricantes_mobile)]\n",
        "\n",
        "print('china: ' + str(fabricantes_mobile_china))\n",
        "print('eua: ' + str(fabricantes_mobile_eua))\n"
      ]
    },
    {
      "cell_type": "markdown",
      "metadata": {
        "id": "WH9TnU_z7hUt"
      },
      "source": [
        "Podemos adicionar elementos a uma posição específica da lista:"
      ]
    },
    {
      "cell_type": "code",
      "execution_count": null,
      "metadata": {
        "id": "DKYvexvX7p1_",
        "vscode": {
          "languageId": "python"
        }
      },
      "outputs": [],
      "source": [
        "print(fabricantes_mobile)"
      ]
    },
    {
      "cell_type": "code",
      "execution_count": null,
      "metadata": {
        "id": "eGYIk-vX8DQs",
        "vscode": {
          "languageId": "python"
        }
      },
      "outputs": [],
      "source": [
        "fabricantes_mobile[2] = 'nokia'\n",
        "print(fabricantes_mobile)"
      ]
    },
    {
      "cell_type": "markdown",
      "metadata": {
        "id": "8rRaHG5K6-h3"
      },
      "source": [
        "### **1.4. Métodos**"
      ]
    },
    {
      "cell_type": "markdown",
      "metadata": {
        "id": "LoHEI8EP7KSb"
      },
      "source": [
        "São métodos nativos do Python que nos ajudam a trabalhar no dia a dia com listas."
      ]
    },
    {
      "cell_type": "code",
      "execution_count": null,
      "metadata": {
        "id": "O4Ke0FcG7Opv",
        "vscode": {
          "languageId": "python"
        }
      },
      "outputs": [],
      "source": [
        "juros = [0.05, 0.07, 0.02, 0.04, 0.08]\n",
        "print(juros)"
      ]
    },
    {
      "cell_type": "code",
      "execution_count": null,
      "metadata": {
        "id": "1PIOTSXT8uT7",
        "vscode": {
          "languageId": "python"
        }
      },
      "outputs": [],
      "source": [
        "# inserir um elemento sem substituir: list.insert(index, val)\n",
        "juros.insert(0, 0.10)\n",
        "print(juros)"
      ]
    },
    {
      "cell_type": "code",
      "execution_count": null,
      "metadata": {
        "id": "-MMjKRzf9Ixy",
        "vscode": {
          "languageId": "python"
        }
      },
      "outputs": [],
      "source": [
        "# inserir um elemento no fim da lista: list.append(val)\n",
        "juros.append(0.09)\n",
        "print(juros)"
      ]
    },
    {
      "cell_type": "code",
      "execution_count": null,
      "metadata": {
        "id": "PAfBwmkb9lF3",
        "vscode": {
          "languageId": "python"
        }
      },
      "outputs": [],
      "source": [
        "# remover um elemento pelo valor: list.remove(val)\n",
        "juros.remove(0.1)\n",
        "print(juros)"
      ]
    },
    {
      "cell_type": "code",
      "execution_count": null,
      "metadata": {
        "id": "E2rAo_0N9yp_",
        "vscode": {
          "languageId": "python"
        }
      },
      "outputs": [],
      "source": [
        "# remover um elemento pelo índice: list.pop(val)\n",
        "terceiro_juros = juros.pop(2)\n",
        "print(terceiro_juros)"
      ]
    },
    {
      "cell_type": "code",
      "execution_count": null,
      "metadata": {
        "id": "cTZ-PpZjwrXh",
        "vscode": {
          "languageId": "python"
        }
      },
      "outputs": [],
      "source": [
        "print(juros)"
      ]
    },
    {
      "cell_type": "markdown",
      "metadata": {
        "id": "NaXePKHx-J0H"
      },
      "source": [
        "### **1.5. Conversão**"
      ]
    },
    {
      "cell_type": "markdown",
      "metadata": {
        "id": "nxiiMN---dLL"
      },
      "source": [
        "Podemos converter alguns tipos de variáveis em listas, como *strings*."
      ]
    },
    {
      "cell_type": "code",
      "execution_count": null,
      "metadata": {
        "id": "DgZyBHJn-TWi",
        "vscode": {
          "languageId": "python"
        }
      },
      "outputs": [],
      "source": [
        "email = 'andre.perez@gmail.com'\n",
        "caracteres_email = list(email)\n",
        "\n",
        "print(email)\n",
        "print(caracteres_email)"
      ]
    },
    {
      "cell_type": "markdown",
      "metadata": {
        "id": "hV8sOC7uSQsy"
      },
      "source": [
        "### **1.6. Revisitando a motivação** "
      ]
    },
    {
      "cell_type": "code",
      "execution_count": null,
      "metadata": {
        "id": "oov-ZttEBTJi",
        "vscode": {
          "languageId": "python"
        }
      },
      "outputs": [],
      "source": [
        "dia_11_saldo_inicial = 1000"
      ]
    },
    {
      "cell_type": "code",
      "execution_count": null,
      "metadata": {
        "id": "QBK9CvnkBWAh",
        "vscode": {
          "languageId": "python"
        }
      },
      "outputs": [],
      "source": [
        "dia_11_transacoes = []\n",
        "\n",
        "dia_11_transacoes.append(243)\n",
        "dia_11_transacoes.append(-798.58)\n",
        "dia_11_transacoes.append(427.12)\n",
        "dia_11_transacoes.append(-10.91)\n",
        "\n",
        "print(dia_11_transacoes)"
      ]
    },
    {
      "cell_type": "code",
      "execution_count": null,
      "metadata": {
        "id": "3WIhTJkvBnn_",
        "vscode": {
          "languageId": "python"
        }
      },
      "outputs": [],
      "source": [
        "dia_11_saldo_final = dia_11_saldo_inicial + dia_11_transacoes[0] + dia_11_transacoes[1] + dia_11_transacoes[2] + dia_11_transacoes[3]\n",
        "print(dia_11_saldo_final)"
      ]
    },
    {
      "cell_type": "markdown",
      "metadata": {
        "id": "4rRCvy_UURrM"
      },
      "source": [
        "## 2\\. Conjuntos"
      ]
    },
    {
      "cell_type": "markdown",
      "metadata": {
        "id": "Y1W9Hv8fURrZ"
      },
      "source": [
        "### **2.1. Motivação** "
      ]
    },
    {
      "cell_type": "markdown",
      "metadata": {
        "id": "yui33vLXavm9"
      },
      "source": [
        "Você trabalha como analista de dados de mídias sociais e precisa descobrir todas as *hashtags* que alcançaram o *top trending* do Twitter durante uma semana. Você já conseguiu as *hashtags* por dia da semana:"
      ]
    },
    {
      "cell_type": "code",
      "execution_count": null,
      "metadata": {
        "id": "EK9_cpdLbgUR",
        "vscode": {
          "languageId": "python"
        }
      },
      "outputs": [],
      "source": [
        "hashtags_seg = ['#tiago', '#joao', '#bbb']\n",
        "hashtags_ter = ['#sarah', '#bbb', '#fiuk']\n",
        "hashtags_qua = ['#gil', '#thelma', '#lourdes']\n",
        "hashtags_qui = ['#rafa', '#fora', '#danilo']\n",
        "hashtags_sex = ['#juliete', '#arthur', '#bbb']"
      ]
    },
    {
      "cell_type": "markdown",
      "metadata": {
        "id": "poe2mVAlcIeB"
      },
      "source": [
        "Um simples concateção de listas fará com que a *hashtag* #bbb, entre outras, apareça mais de uma vez."
      ]
    },
    {
      "cell_type": "code",
      "execution_count": null,
      "metadata": {
        "id": "fGIykxP8cTZ5",
        "vscode": {
          "languageId": "python"
        }
      },
      "outputs": [],
      "source": [
        "hashtags_semana = hashtags_seg + hashtags_ter + hashtags_qua + hashtags_qui + hashtags_sex\n",
        "print(hashtags_semana)"
      ]
    },
    {
      "cell_type": "markdown",
      "metadata": {
        "id": "cOZDKbe6URrb"
      },
      "source": [
        "### **2.2. Definição** "
      ]
    },
    {
      "cell_type": "markdown",
      "metadata": {
        "id": "B9Bux1n0C2Hd"
      },
      "source": [
        "Armazenam sequências imutáveis e desordenadas valores, sem repetição. São do tipo `set`:"
      ]
    },
    {
      "cell_type": "code",
      "execution_count": null,
      "metadata": {
        "id": "_QL3pDMAE5oV",
        "vscode": {
          "languageId": "python"
        }
      },
      "outputs": [],
      "source": [
        "frutas = {'banana', 'maca', 'uva', 'uva'}\n",
        "\n",
        "print(frutas)\n",
        "print(type(frutas))"
      ]
    },
    {
      "cell_type": "markdown",
      "metadata": {
        "id": "5q6xcwOWURrc"
      },
      "source": [
        "### **2.3. Operações** "
      ]
    },
    {
      "cell_type": "markdown",
      "metadata": {
        "id": "VjckMGhefqbI"
      },
      "source": [
        "As operações da estrutura do tipo *set* são:\n",
        "\n",
        "\n",
        "*   `-` (diferença)."
      ]
    },
    {
      "cell_type": "markdown",
      "metadata": {
        "id": "8t5unixyf2PQ"
      },
      "source": [
        "**Exemplo**: Países da europa."
      ]
    },
    {
      "cell_type": "code",
      "execution_count": null,
      "metadata": {
        "id": "sDM_I9xff1as",
        "vscode": {
          "languageId": "python"
        }
      },
      "outputs": [],
      "source": [
        "norte_europa = {'reino unido', 'suecia', 'russia', 'noruega', 'dinamarca'}\n",
        "escandinavia = {'noruega', 'dinamarca', 'suecia'}"
      ]
    },
    {
      "cell_type": "code",
      "execution_count": null,
      "metadata": {
        "id": "nibhXuPHgD4I",
        "vscode": {
          "languageId": "python"
        }
      },
      "outputs": [],
      "source": [
        "norte_europa_nao_escandivano = norte_europa - escandinavia\n",
        "print(norte_europa_nao_escandivano)"
      ]
    },
    {
      "cell_type": "code",
      "execution_count": null,
      "metadata": {
        "id": "UjsDawmDgoVD",
        "vscode": {
          "languageId": "python"
        }
      },
      "outputs": [],
      "source": [
        "escandivano_nao_norte_europa = escandinavia - norte_europa\n",
        "print(escandivano_nao_norte_europa)"
      ]
    },
    {
      "cell_type": "markdown",
      "metadata": {
        "id": "DK2jQGirhGWS"
      },
      "source": [
        "### **2.4. Métodos**"
      ]
    },
    {
      "cell_type": "markdown",
      "metadata": {
        "id": "A6cE9_1GhGWd"
      },
      "source": [
        "São métodos nativos do Python que nos ajudam a trabalhar no dia a dia com conjuntos."
      ]
    },
    {
      "cell_type": "code",
      "execution_count": null,
      "metadata": {
        "id": "IW0jfAUmhGWd",
        "vscode": {
          "languageId": "python"
        }
      },
      "outputs": [],
      "source": [
        "cursos = {'Exatas', 'Humanas', 'Biológicas'}\n",
        "print(cursos)"
      ]
    },
    {
      "cell_type": "code",
      "execution_count": null,
      "metadata": {
        "id": "hJDBambLhGWe",
        "vscode": {
          "languageId": "python"
        }
      },
      "outputs": [],
      "source": [
        "# inserir um elemento no conjunto: set.add(val)\n",
        "cursos.add('Saúde')\n",
        "print(cursos)"
      ]
    },
    {
      "cell_type": "code",
      "execution_count": null,
      "metadata": {
        "id": "2PW8RfTyhGWe",
        "vscode": {
          "languageId": "python"
        }
      },
      "outputs": [],
      "source": [
        "# remover um elemento no conjunto: set.remove(val)\n",
        "cursos.remove('Saúde')\n",
        "print(cursos)"
      ]
    },
    {
      "cell_type": "markdown",
      "metadata": {
        "id": "lR8W6YlthGWe"
      },
      "source": [
        "### **2.5. Conversão**"
      ]
    },
    {
      "cell_type": "markdown",
      "metadata": {
        "id": "FcIR2JcbhGWe"
      },
      "source": [
        "Podemos converter conjuntos para lista e vice e versa."
      ]
    },
    {
      "cell_type": "code",
      "execution_count": null,
      "metadata": {
        "id": "XZU1XQZbhGWf",
        "vscode": {
          "languageId": "python"
        }
      },
      "outputs": [],
      "source": [
        "times_paulistas = {'São Paulo', 'Palmeiras', 'Corinthians', 'Santos'}\n",
        "\n",
        "print(times_paulistas)\n",
        "print(type(times_paulistas))"
      ]
    },
    {
      "cell_type": "code",
      "execution_count": null,
      "metadata": {
        "id": "tBGFyE12iQ4O",
        "vscode": {
          "languageId": "python"
        }
      },
      "outputs": [],
      "source": [
        "print(list(times_paulistas))\n",
        "print(type(list(times_paulistas)))"
      ]
    },
    {
      "cell_type": "markdown",
      "metadata": {
        "id": "WxnG-e3HURrd"
      },
      "source": [
        "### **2.6. Revisitando a motivação** "
      ]
    },
    {
      "cell_type": "code",
      "execution_count": null,
      "metadata": {
        "id": "LdF2ImcecyBI",
        "vscode": {
          "languageId": "python"
        }
      },
      "outputs": [],
      "source": [
        "print(hashtags_semana)\n",
        "print(len(hashtags_semana))"
      ]
    },
    {
      "cell_type": "code",
      "execution_count": null,
      "metadata": {
        "id": "7u48dmrPco9Q",
        "vscode": {
          "languageId": "python"
        }
      },
      "outputs": [],
      "source": [
        "hashtags_semana = list(set(hashtags_seg + hashtags_ter + hashtags_qua + hashtags_qui + hashtags_sex))\n",
        "\n",
        "print(hashtags_semana)\n",
        "print(len(hashtags_semana))"
      ]
    },
    {
      "cell_type": "markdown",
      "metadata": {
        "id": "ELgoMRAAUSjv"
      },
      "source": [
        "## 3\\. Dicionários"
      ]
    },
    {
      "cell_type": "markdown",
      "metadata": {
        "id": "CuLkQY76USjw"
      },
      "source": [
        "### **3.1. Motivação** "
      ]
    },
    {
      "cell_type": "markdown",
      "metadata": {
        "id": "K5Wnzl1UdShI"
      },
      "source": [
        "Para se conectar a uma rede wi-fi, você precisa de duas informações: o nome da rede e a senha de acesso. Quando você vai acessar uma nova rede, você encontra uma lista de redes disponíveis: "
      ]
    },
    {
      "cell_type": "code",
      "execution_count": null,
      "metadata": {
        "id": "Ah1dmE4Qdv-A",
        "vscode": {
          "languageId": "python"
        }
      },
      "outputs": [],
      "source": [
        "wifi_disponiveis = ['rede1', 'cnx_cnx', 'uai-fi', 'r3d3']\n",
        "print(wifi_disponiveis)"
      ]
    },
    {
      "cell_type": "markdown",
      "metadata": {
        "id": "auR4rPNAeCgO"
      },
      "source": [
        "Você consegue identificar quais são os nome de redes e suas respectivas senhas? Talvez uma `list` não seja a melhor opção para armazenar esse tipo de dado."
      ]
    },
    {
      "cell_type": "markdown",
      "metadata": {
        "id": "JENLdmHkUSjx"
      },
      "source": [
        "### **3.2. Definição** "
      ]
    },
    {
      "cell_type": "markdown",
      "metadata": {
        "id": "U3lwWzl38zuT"
      },
      "source": [
        "Armazenam sequências no formato chave-valor. São do tipo `dict`.\n"
      ]
    },
    {
      "cell_type": "code",
      "execution_count": null,
      "metadata": {
        "id": "OUR6zdcni2jS",
        "vscode": {
          "languageId": "python"
        }
      },
      "outputs": [],
      "source": [
        "brasil = {'capital': 'Brasília', 'idioma': 'Português', 'populacao': 210}\n",
        "\n",
        "print(brasil)\n",
        "print(type(brasil))"
      ]
    },
    {
      "cell_type": "markdown",
      "metadata": {
        "id": "cPj56yhmIJg4"
      },
      "source": [
        "Não é permite chaves duplicadas."
      ]
    },
    {
      "cell_type": "code",
      "execution_count": null,
      "metadata": {
        "id": "5a8o-NP4ITnd",
        "vscode": {
          "languageId": "python"
        }
      },
      "outputs": [],
      "source": [
        "carro = {\n",
        "    'marca': 'Volkswagen',\n",
        "    'modelo': 'Polo',\n",
        "    'ano': 2021,\n",
        "    'ano': 2004\n",
        "}\n",
        "\n",
        "print(carro)"
      ]
    },
    {
      "cell_type": "markdown",
      "metadata": {
        "id": "0tE9-pPrOIxH"
      },
      "source": [
        "Podemos criar dicionários compostos:"
      ]
    },
    {
      "cell_type": "code",
      "execution_count": null,
      "metadata": {
        "id": "bTeSsI9FOO4h",
        "vscode": {
          "languageId": "python"
        }
      },
      "outputs": [],
      "source": [
        "cadastro = {\n",
        "    'andre': {\n",
        "        'nome': 'Andre Perez', \n",
        "        'ano_nascimento': 1992, \n",
        "        'pais': {\n",
        "            'pai': {\n",
        "              'nome': '<nome-do-pai> Perez', \n",
        "              'ano_nascimento': 1971\n",
        "            },\n",
        "            'mae': {\n",
        "              'nome': '<nome-da-mae> Perez', \n",
        "              'ano_nascimento': 1973\n",
        "            },\n",
        "        }\n",
        "    }\n",
        "}\n",
        "\n",
        "print(cadastro)"
      ]
    },
    {
      "cell_type": "code",
      "execution_count": null,
      "metadata": {
        "id": "hzJjKGtZ-DmB",
        "vscode": {
          "languageId": "python"
        }
      },
      "outputs": [],
      "source": [
        "cadastro['andre']['pais']['mae']['ano_nascimento']"
      ]
    },
    {
      "cell_type": "markdown",
      "metadata": {
        "id": "qcHSzY6kUSjy"
      },
      "source": [
        "### **3.3. Operações** "
      ]
    },
    {
      "cell_type": "code",
      "execution_count": null,
      "metadata": {
        "id": "XmfvRWVTKZLn",
        "vscode": {
          "languageId": "python"
        }
      },
      "outputs": [],
      "source": [
        "credito = {'123': 750, '789': 980}"
      ]
    },
    {
      "cell_type": "markdown",
      "metadata": {
        "id": "RVwYx41eI6BT"
      },
      "source": [
        "Elementos são acessados pela sua chave."
      ]
    },
    {
      "cell_type": "code",
      "execution_count": null,
      "metadata": {
        "id": "A05RBP9QKsgh",
        "vscode": {
          "languageId": "python"
        }
      },
      "outputs": [],
      "source": [
        "score_123 = credito['123']\n",
        "score_789 = credito['789']\n",
        "\n",
        "print(score_123)\n",
        "print(score_789)"
      ]
    },
    {
      "cell_type": "markdown",
      "metadata": {
        "id": "OZYYChDVLEQm"
      },
      "source": [
        "Elementos são atualizados pela sua chave."
      ]
    },
    {
      "cell_type": "code",
      "execution_count": null,
      "metadata": {
        "id": "crkXt8TzLfp2",
        "vscode": {
          "languageId": "python"
        }
      },
      "outputs": [],
      "source": [
        "credito['123'] = 435\n",
        "print(credito)"
      ]
    },
    {
      "cell_type": "markdown",
      "metadata": {
        "id": "pE_a-ii5L82k"
      },
      "source": [
        "Para adicionar um novo elemento, basta criar um novo elemento chave-valor:"
      ]
    },
    {
      "cell_type": "code",
      "execution_count": null,
      "metadata": {
        "id": "Dq0mM6URMAe-",
        "vscode": {
          "languageId": "python"
        }
      },
      "outputs": [],
      "source": [
        "credito['456'] = 1000\n",
        "print(credito)"
      ]
    },
    {
      "cell_type": "markdown",
      "metadata": {
        "id": "UCUO_UdUJPI8"
      },
      "source": [
        "### **3.4. Métodos**"
      ]
    },
    {
      "cell_type": "markdown",
      "metadata": {
        "id": "cncT52BYJVeD"
      },
      "source": [
        "São métodos nativos do Python que nos ajudam a trabalhar no dia a dia com dicionários."
      ]
    },
    {
      "cell_type": "code",
      "execution_count": null,
      "metadata": {
        "id": "qwxwzPsTJcXn",
        "vscode": {
          "languageId": "python"
        }
      },
      "outputs": [],
      "source": [
        "artigo = dict(\n",
        "    titulo='Modulo 02 | Python: Estruturas de Dados',\n",
        "    corpo='Topicos, Aulas, Listas, Conjuntos, Dicionários, ...',\n",
        "    total_caracteres=1530\n",
        ")"
      ]
    },
    {
      "cell_type": "code",
      "execution_count": null,
      "metadata": {
        "id": "QZJ4D_eRNyc_",
        "vscode": {
          "languageId": "python"
        }
      },
      "outputs": [],
      "source": [
        "# adicionar/atualizar um elemento pelo chave-valor: dict.update(dict)\n",
        "print(artigo)\n",
        "artigo.update({'total_caracteres': 7850})\n",
        "print(artigo)\n",
        "\n",
        "artigo['total_caracteres'] = 7850"
      ]
    },
    {
      "cell_type": "code",
      "execution_count": null,
      "metadata": {
        "id": "ofz4lbceMx_4",
        "vscode": {
          "languageId": "python"
        }
      },
      "outputs": [],
      "source": [
        "# remover um elemento pelo chave: dict.pop(key)\n",
        "print(artigo)\n",
        "total_caracteres = artigo.pop('total_caracteres')\n",
        "print(artigo)"
      ]
    },
    {
      "cell_type": "markdown",
      "metadata": {
        "id": "h0bXPXycjfpw"
      },
      "source": [
        "### **3.5. Conversão**"
      ]
    },
    {
      "cell_type": "markdown",
      "metadata": {
        "id": "CnzLEEYOjfp2"
      },
      "source": [
        "Podemos converter as chaves e os items de um dicionário em uma lista."
      ]
    },
    {
      "cell_type": "code",
      "execution_count": null,
      "metadata": {
        "id": "10CkP3RjkD9x",
        "vscode": {
          "languageId": "python"
        }
      },
      "outputs": [],
      "source": [
        "artigo = dict(\n",
        "    titulo='Modulo 02 | Python: Estruturas de Dados',\n",
        "    corpo='Topicos, Aulas, Listas, Conjuntos, Dicionários, ...',\n",
        "    total_caracteres=1530\n",
        ")"
      ]
    },
    {
      "cell_type": "code",
      "execution_count": null,
      "metadata": {
        "id": "bwmEXzxnjfp3",
        "vscode": {
          "languageId": "python"
        }
      },
      "outputs": [],
      "source": [
        "chaves = list(artigo.keys())\n",
        "\n",
        "print(chaves)\n",
        "print(type(chaves))"
      ]
    },
    {
      "cell_type": "code",
      "execution_count": null,
      "metadata": {
        "id": "UiP-UQxhjfp5",
        "vscode": {
          "languageId": "python"
        }
      },
      "outputs": [],
      "source": [
        "valores = list(artigo.values())\n",
        "\n",
        "print(valores)\n",
        "print(type(valores))"
      ]
    },
    {
      "cell_type": "markdown",
      "metadata": {
        "id": "Nq0WCx8HUSjz"
      },
      "source": [
        "### **3.6. Revisitando a motivação** "
      ]
    },
    {
      "cell_type": "code",
      "execution_count": null,
      "metadata": {
        "id": "AZHrKx9ZesI5",
        "vscode": {
          "languageId": "python"
        }
      },
      "outputs": [],
      "source": [
        "wifi_disponiveis = []"
      ]
    },
    {
      "cell_type": "code",
      "execution_count": null,
      "metadata": {
        "id": "4y3-5GCGeZpR",
        "vscode": {
          "languageId": "python"
        }
      },
      "outputs": [],
      "source": [
        "rede = {'nome': 'rede1', 'senha': 'cnx_cnx'}\n",
        "wifi_disponiveis.append(rede)"
      ]
    },
    {
      "cell_type": "code",
      "execution_count": null,
      "metadata": {
        "id": "CPzYATO8ev7D",
        "vscode": {
          "languageId": "python"
        }
      },
      "outputs": [],
      "source": [
        "rede = {'nome': 'uai-fi', 'senha': 'r3d3'}\n",
        "wifi_disponiveis.append(rede)"
      ]
    },
    {
      "cell_type": "code",
      "execution_count": null,
      "metadata": {
        "id": "0YznnPL4e3H1",
        "vscode": {
          "languageId": "python"
        }
      },
      "outputs": [],
      "source": [
        "print(wifi_disponiveis)"
      ]
    }
  ],
  "metadata": {
    "colab": {
      "collapsed_sections": [],
      "name": "module_2_class.ipynb",
      "provenance": [],
      "toc_visible": true
    },
    "kernelspec": {
      "display_name": "Python 3",
      "name": "python3"
    }
  },
  "nbformat": 4,
  "nbformat_minor": 0
}
