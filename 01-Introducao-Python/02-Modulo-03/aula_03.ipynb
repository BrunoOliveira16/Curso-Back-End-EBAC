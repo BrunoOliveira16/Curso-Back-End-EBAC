{
 "cells": [
  {
   "attachments": {},
   "cell_type": "markdown",
   "metadata": {},
   "source": [
    "## Módulo 3 - Fluxo Condicional & Repetição\n",
    "\n",
    "### **Aula 3: Estrutura de repetição for / in**"
   ]
  },
  {
   "attachments": {},
   "cell_type": "markdown",
   "metadata": {},
   "source": [
    "### **3.1. for / in** "
   ]
  },
  {
   "attachments": {},
   "cell_type": "markdown",
   "metadata": {},
   "source": [
    "Estrutura que permite a execução repetida de um bloco de código repetidas vezes."
   ]
  },
  {
   "attachments": {},
   "cell_type": "markdown",
   "metadata": {},
   "source": [
    "```python\n",
    "for variavel_temporaria in coleção:\n",
    "  <execute este código>\n",
    "```"
   ]
  },
  {
   "attachments": {},
   "cell_type": "markdown",
   "metadata": {},
   "source": [
    "### **3.2. for / in / range** "
   ]
  },
  {
   "attachments": {},
   "cell_type": "markdown",
   "metadata": {},
   "source": [
    "Estrutura que permite a execução repetida de um bloco de código **n** vezes."
   ]
  },
  {
   "cell_type": "code",
   "execution_count": null,
   "metadata": {},
   "outputs": [],
   "source": [
    "for valor in range(6):\n",
    "    print(valor)"
   ]
  },
  {
   "cell_type": "code",
   "execution_count": null,
   "metadata": {},
   "outputs": [],
   "source": [
    "soma = 0\n",
    "\n",
    "for valor in range(0, 10):\n",
    "    soma = soma + valor\n",
    "    print(soma)\n",
    "\n",
    "print(soma)"
   ]
  },
  {
   "cell_type": "code",
   "execution_count": null,
   "metadata": {},
   "outputs": [],
   "source": [
    "for multiplo_dois in range(2, 10, 2):\n",
    "    print(multiplo_dois)"
   ]
  },
  {
   "attachments": {},
   "cell_type": "markdown",
   "metadata": {},
   "source": [
    "### **3.3. for / in / list** "
   ]
  },
  {
   "attachments": {},
   "cell_type": "markdown",
   "metadata": {},
   "source": [
    "Estrutura que permite a execução de um bloco de código para todos os elementos de uma lista."
   ]
  },
  {
   "cell_type": "code",
   "execution_count": null,
   "metadata": {},
   "outputs": [],
   "source": [
    "frutas = ['maca', 'banana', 'laranja', 'uva', 'pera']\n",
    "\n",
    "for fruta in frutas:\n",
    "    print(fruta)"
   ]
  },
  {
   "cell_type": "code",
   "execution_count": null,
   "metadata": {},
   "outputs": [],
   "source": [
    "frase = 'Fala pessoal, meu nome é Bruno Oliveira.'\n",
    "\n",
    "for caracter in frase:\n",
    "    if (caracter == 'B') | (caracter == 'O'):\n",
    "        print(f'A letra \"{caracter}\" está presente na frase.')"
   ]
  },
  {
   "attachments": {},
   "cell_type": "markdown",
   "metadata": {},
   "source": [
    "### **3.4. for / in / dict** "
   ]
  },
  {
   "attachments": {},
   "cell_type": "markdown",
   "metadata": {},
   "source": [
    "Estrutura que permite a execução de um bloco de código para todos os elementos de um dicionário.\n"
   ]
  },
  {
   "cell_type": "code",
   "execution_count": 10,
   "metadata": {},
   "outputs": [],
   "source": [
    "credito = {'123': 750, '456': 812, '789':980}"
   ]
  },
  {
   "cell_type": "code",
   "execution_count": null,
   "metadata": {},
   "outputs": [],
   "source": [
    "for chave, valor in credito.items():\n",
    "    print(f'Para o documento {chave}, o valor do score de crédito é {valor}.')\n",
    "    print('\\n')"
   ]
  },
  {
   "cell_type": "code",
   "execution_count": null,
   "metadata": {},
   "outputs": [],
   "source": [
    "for chave in credito.keys():\n",
    "    print(chave)\n",
    "    print(credito[chave])\n",
    "    print(f'Para o documento {chave}, o valor do score de crédito é {credito[chave]}.')\n",
    "    print('\\n')"
   ]
  },
  {
   "cell_type": "code",
   "execution_count": null,
   "metadata": {},
   "outputs": [],
   "source": [
    "for valor in credito.values():\n",
    "    print(valor)\n",
    "    print(f'O valor do score de crédito é {valor}, mas não temos mais as chaves :(.')\n",
    "    print('\\n')"
   ]
  },
  {
   "attachments": {},
   "cell_type": "markdown",
   "metadata": {},
   "source": [
    "### **3.5. break / continue** "
   ]
  },
  {
   "attachments": {},
   "cell_type": "markdown",
   "metadata": {},
   "source": [
    "Estrutura que permite a quebra ou o avanço de um laço de repetição."
   ]
  },
  {
   "cell_type": "code",
   "execution_count": null,
   "metadata": {},
   "outputs": [],
   "source": [
    "for i in range(0, 10*10*10*10*10*10):\n",
    "    print(i)\n",
    "    if i == 2:\n",
    "        break"
   ]
  },
  {
   "cell_type": "code",
   "execution_count": null,
   "metadata": {},
   "outputs": [],
   "source": [
    "numero = 10\n",
    "\n",
    "if numero % 2 == 0:\n",
    "    print(f'O numero {numero} é par')\n",
    "else:\n",
    "    print(f'O numero {numero} é impar')"
   ]
  },
  {
   "cell_type": "code",
   "execution_count": null,
   "metadata": {},
   "outputs": [],
   "source": [
    "numeros = [361, 553, 194, 13, 510, 33, 135]\n",
    "\n",
    "for numero in numeros:\n",
    "\n",
    "    if numero % 2 == 0:\n",
    "        print(f'O numero {numero} é par')\n",
    "        break\n",
    "    else:\n",
    "        print(f'O numero {numero} é impar')"
   ]
  },
  {
   "cell_type": "code",
   "execution_count": null,
   "metadata": {},
   "outputs": [],
   "source": [
    "numeros = [361, 553, 194, 13, 510, 33, 135]\n",
    "\n",
    "for numero in numeros:\n",
    "\n",
    "    if numero % 2 == 0:\n",
    "        print(f'O numero {numero} é par')\n",
    "        break\n",
    "    else:\n",
    "        continue\n",
    "    print(f'O numero {numero} é impar')"
   ]
  }
 ],
 "metadata": {
  "kernelspec": {
   "display_name": "Python 3",
   "language": "python",
   "name": "python3"
  },
  "language_info": {
   "codemirror_mode": {
    "name": "ipython",
    "version": 3
   },
   "file_extension": ".py",
   "mimetype": "text/x-python",
   "name": "python",
   "nbconvert_exporter": "python",
   "pygments_lexer": "ipython3",
   "version": "3.11.0"
  },
  "orig_nbformat": 4,
  "vscode": {
   "interpreter": {
    "hash": "c261aea317cc0286b3b3261fbba9abdec21eaa57589985bb7a274bf54d6cc0a7"
   }
  }
 },
 "nbformat": 4,
 "nbformat_minor": 2
}
