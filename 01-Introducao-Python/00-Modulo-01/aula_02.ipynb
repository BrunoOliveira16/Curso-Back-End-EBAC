{
 "cells": [
  {
   "cell_type": "markdown",
   "metadata": {},
   "source": [
    "**Módulo 1 - Váriaveis & Tipos de Dados**\n",
    "- Aula 2: Variáveis"
   ]
  },
  {
   "cell_type": "markdown",
   "metadata": {},
   "source": [
    "**2.1. Definição**\n",
    "\n",
    "Mecanismo de armazenamento volátil de dados, ou seja, dados salvos em pedacinhos da\n",
    "memória RAM do sistema computacional em uso (notebook, mobile, console de vídeo game,\n",
    "smartwatch, etc.)."
   ]
  },
  {
   "cell_type": "code",
   "execution_count": null,
   "metadata": {},
   "outputs": [],
   "source": [
    "idade = 30\n",
    "print(idade)\n",
    "idade = 27\n",
    "print(idade)\n",
    "nome = \"Bruno\"\n",
    "print(nome)"
   ]
  },
  {
   "cell_type": "markdown",
   "metadata": {},
   "source": [
    "**2.2. Tipos nativos**\n",
    "\n",
    "**Tipos numéricos:** inteiros ( int ) e decimais ( float ):"
   ]
  },
  {
   "cell_type": "code",
   "execution_count": null,
   "metadata": {},
   "outputs": [],
   "source": [
    "preco = 1000\n",
    "tipo_preco = type(preco)\n",
    "print(preco)\n",
    "print(tipo_preco)\n",
    "juros = 0.05\n",
    "tipo_juros = type(juros)\n",
    "print(juros)\n",
    "print(tipo_juros)"
   ]
  },
  {
   "cell_type": "markdown",
   "metadata": {},
   "source": [
    "**Tipos de texto:** strings ( str ):"
   ]
  },
  {
   "cell_type": "code",
   "execution_count": null,
   "metadata": {},
   "outputs": [],
   "source": [
    "primeiro_nome = \"Bruno\"\n",
    "print(primeiro_nome)\n",
    "print(type(primeiro_nome))\n",
    "pais = 'Brasil'\n",
    "print(pais)\n",
    "print(type(pais))"
   ]
  },
  {
   "cell_type": "markdown",
   "metadata": {},
   "source": [
    "**Tipos lógicos:** booleanos ( bool ):"
   ]
  },
  {
   "cell_type": "code",
   "execution_count": null,
   "metadata": {},
   "outputs": [],
   "source": [
    "usuario_maior_de_idade = True\n",
    "\n",
    "print(usuario_maior_de_idade)\n",
    "print(type(usuario_maior_de_idade))"
   ]
  },
  {
   "cell_type": "markdown",
   "metadata": {},
   "source": [
    "**Tipo vazio** ( NoneType ):"
   ]
  },
  {
   "cell_type": "code",
   "execution_count": null,
   "metadata": {},
   "outputs": [],
   "source": [
    "telefone_fixo = None\n",
    "print(telefone_fixo)\n",
    "print(type(telefone_fixo))"
   ]
  }
 ],
 "metadata": {
  "kernelspec": {
   "display_name": "Python 3.11.0 64-bit",
   "language": "python",
   "name": "python3"
  },
  "language_info": {
   "codemirror_mode": {
    "name": "ipython",
    "version": 3
   },
   "file_extension": ".py",
   "mimetype": "text/x-python",
   "name": "python",
   "nbconvert_exporter": "python",
   "pygments_lexer": "ipython3",
   "version": "3.11.0"
  },
  "orig_nbformat": 4,
  "vscode": {
   "interpreter": {
    "hash": "c261aea317cc0286b3b3261fbba9abdec21eaa57589985bb7a274bf54d6cc0a7"
   }
  }
 },
 "nbformat": 4,
 "nbformat_minor": 2
}
