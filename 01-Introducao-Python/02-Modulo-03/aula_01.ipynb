{
 "cells": [
  {
   "attachments": {},
   "cell_type": "markdown",
   "metadata": {},
   "source": [
    "## Módulo 3 - Fluxo Condicional & Repetição\n",
    "\n",
    "### **Aula 1: Estrutura condicional if / else / elif**"
   ]
  },
  {
   "attachments": {},
   "cell_type": "markdown",
   "metadata": {},
   "source": [
    "### **1.1. if / else** "
   ]
  },
  {
   "attachments": {},
   "cell_type": "markdown",
   "metadata": {},
   "source": [
    "Estrutura de alteração de fluxo lógico do código, avalia um valor booleano ou uma comparação lógica. **Note** a identação do código."
   ]
  },
  {
   "attachments": {},
   "cell_type": "markdown",
   "metadata": {},
   "source": [
    "```python\n",
    "if <booleano / comparação lógica> == True:\n",
    "  <execute este código>\n",
    "else:\n",
    "  <senão execute este código>\n",
    "```"
   ]
  },
  {
   "cell_type": "code",
   "execution_count": null,
   "metadata": {},
   "outputs": [],
   "source": [
    "if True:\n",
    "  print(\"Verdadeiro\")\n",
    "else:\n",
    "  print(\"Falso\")"
   ]
  },
  {
   "attachments": {},
   "cell_type": "markdown",
   "metadata": {},
   "source": [
    "**Exemplo**: Código de segurança de um cartão de crédito"
   ]
  },
  {
   "cell_type": "code",
   "execution_count": null,
   "metadata": {},
   "outputs": [],
   "source": [
    "codigo_de_seguranca = '291'\n",
    "codigo_de_seguranca_cadastro = '010'\n",
    "\n",
    "pode_efetuar_pagamento = codigo_de_seguranca == codigo_de_seguranca_cadastro\n",
    "print(pode_efetuar_pagamento)"
   ]
  },
  {
   "cell_type": "code",
   "execution_count": null,
   "metadata": {},
   "outputs": [],
   "source": [
    "if pode_efetuar_pagamento:\n",
    "  print(\"Pagamento efetuado\")\n",
    "else:\n",
    "  print(\"Erro: Código de segurança inválido\")"
   ]
  },
  {
   "cell_type": "code",
   "execution_count": null,
   "metadata": {},
   "outputs": [],
   "source": [
    "if codigo_de_seguranca == codigo_de_seguranca_cadastro:\n",
    "  print(\"Pagamento efetuado\")\n",
    "else:\n",
    "  print(\"Erro: Código de segurança inválido\")"
   ]
  },
  {
   "attachments": {},
   "cell_type": "markdown",
   "metadata": {},
   "source": [
    "Revisitando a tabela da verdade:"
   ]
  },
  {
   "attachments": {},
   "cell_type": "markdown",
   "metadata": {},
   "source": [
    "| CÓDIGO        | SENHA        | | | CÓDIGO OR SENHA   | | CÓDIGO AND SENHA  | | NOT CÓDIGO    |\n",
    "|----------|----------|-|-|----------|-|----------|-|----------|\n",
    "| **TRUE** | **TRUE** | | | **TRUE** | | **TRUE** | | FALSE    |\n",
    "| **TRUE** | FALSE    | | | **TRUE** | | FALSE    | | FALSE    |\n",
    "| FALSE    | FALSE    | | | FALSE    | | FALSE    | | **TRUE** |\n",
    "| FALSE    | **TRUE** | | | **TRUE** | | FALSE    | | **TRUE** |"
   ]
  },
  {
   "cell_type": "code",
   "execution_count": 10,
   "metadata": {},
   "outputs": [],
   "source": [
    "codigo_de_seguranca = '010'\n",
    "codigo_de_seguranca_cadastro = '010'\n",
    "\n",
    "senha = '123'\n",
    "senha_cadastro = '123'"
   ]
  },
  {
   "cell_type": "code",
   "execution_count": null,
   "metadata": {},
   "outputs": [],
   "source": [
    "if (codigo_de_seguranca == codigo_de_seguranca_cadastro) & (senha == senha_cadastro):\n",
    "  print(\"Pagamento efetuado\")\n",
    "else:\n",
    "  print(\"Erro: Pagamento não efetuado\")"
   ]
  },
  {
   "cell_type": "code",
   "execution_count": null,
   "metadata": {},
   "outputs": [],
   "source": [
    "if (codigo_de_seguranca != codigo_de_seguranca_cadastro) | (senha != senha_cadastro):\n",
    "  print(\"Erro: Pagamento não efetuado\")\n",
    "else:\n",
    "  print(\"Pagamento efetuado\")"
   ]
  },
  {
   "attachments": {},
   "cell_type": "markdown",
   "metadata": {},
   "source": [
    "### **1.2. if / elif / else**"
   ]
  },
  {
   "attachments": {},
   "cell_type": "markdown",
   "metadata": {},
   "source": [
    "Podemos também avaliar múltipla condições."
   ]
  },
  {
   "attachments": {},
   "cell_type": "markdown",
   "metadata": {},
   "source": [
    "```python\n",
    "if <1º booleano / 1ª comparação lógica> == True:\n",
    "  <execute este código se a primeira condição for verdade>\n",
    "elif <2º booleano / 2ª comparação lógica> == True:\n",
    "  <execute este código se a segunda condição for verdade>\n",
    "else:\n",
    "  <senão execute este código>\n",
    "```"
   ]
  },
  {
   "cell_type": "code",
   "execution_count": 13,
   "metadata": {},
   "outputs": [],
   "source": [
    "codigo_de_seguranca = '802'\n",
    "codigo_de_seguranca_cadastro = '852'\n",
    "\n",
    "senha = '7703'\n",
    "senha_cadastro = '7783'"
   ]
  },
  {
   "attachments": {},
   "cell_type": "markdown",
   "metadata": {},
   "source": [
    "| CÓDIGO        | SENHA        | | | CÓDIGO AND SENHA  | MENSAGEM |\n",
    "|----------|----------|-|-|----------|-|\n",
    "| **TRUE** | **TRUE** | | | **TRUE** | Pagamento efetuado |\n",
    "| **TRUE** | FALSE    | | | FALSE    | Erro: Senha inválida |\n",
    "| FALSE    | FALSE    | | | FALSE    | Erro: Código de segurança e senha inválidos |\n",
    "| FALSE    | **TRUE** | | | FALSE    | Erro: Código de segurança inválido |"
   ]
  },
  {
   "cell_type": "code",
   "execution_count": 14,
   "metadata": {},
   "outputs": [
    {
     "name": "stdout",
     "output_type": "stream",
     "text": [
      "Erro: Código de segurança e senha inválidos\n"
     ]
    }
   ],
   "source": [
    "if (codigo_de_seguranca == codigo_de_seguranca_cadastro) & (senha == senha_cadastro):\n",
    "  print(\"Pagamento efetuado\")\n",
    "\n",
    "elif (codigo_de_seguranca != codigo_de_seguranca_cadastro) & (senha == senha_cadastro):\n",
    "  print(\"Erro: Código de segurança inválido\")\n",
    "\n",
    "elif (codigo_de_seguranca == codigo_de_seguranca_cadastro) & (senha != senha_cadastro):\n",
    "  print(\"Erro: Senha inválida inválida\")\n",
    "\n",
    "else:\n",
    "  print(\"Erro: Código de segurança e senha inválidos\")"
   ]
  }
 ],
 "metadata": {
  "kernelspec": {
   "display_name": "Python 3",
   "language": "python",
   "name": "python3"
  },
  "language_info": {
   "codemirror_mode": {
    "name": "ipython",
    "version": 3
   },
   "file_extension": ".py",
   "mimetype": "text/x-python",
   "name": "python",
   "nbconvert_exporter": "python",
   "pygments_lexer": "ipython3",
   "version": "3.11.0"
  },
  "orig_nbformat": 4,
  "vscode": {
   "interpreter": {
    "hash": "c261aea317cc0286b3b3261fbba9abdec21eaa57589985bb7a274bf54d6cc0a7"
   }
  }
 },
 "nbformat": 4,
 "nbformat_minor": 2
}
