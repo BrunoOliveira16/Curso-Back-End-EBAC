{
 "cells": [
  {
   "cell_type": "markdown",
   "metadata": {},
   "source": [
    "Módulo 1 - Váriaveis & Tipos de Dados\n",
    "\n",
    "**Aula 5: Boleanos**"
   ]
  },
  {
   "cell_type": "markdown",
   "metadata": {},
   "source": [
    "**5.1. Motivação**\n",
    "\n",
    "Em websites (redes sociais, e-commerce, corporativos, etc.) é comum o uso de sistemas de controle de acesso, o famoso login. Em geral, nestes sistemas um usuário fornece dois dados:\n",
    "*usuario* e *senha*"
   ]
  },
  {
   "cell_type": "code",
   "execution_count": null,
   "metadata": {},
   "outputs": [],
   "source": [
    "usuario = 'bruno.oliveira'\n",
    "senha = 'bruno123'"
   ]
  },
  {
   "cell_type": "markdown",
   "metadata": {},
   "source": [
    "Do lado do servidor, o backend do website tem armazenado os dados de usuário e senha fornecidas pelo usuário no momento do cadastro: *usuario_cadastro* e *senha_cadastro* "
   ]
  },
  {
   "cell_type": "code",
   "execution_count": null,
   "metadata": {},
   "outputs": [],
   "source": [
    "usuario_cadastro = 'bruno.oliveira'\n",
    "usuario_senha = 'bruno321'"
   ]
  },
  {
   "cell_type": "markdown",
   "metadata": {},
   "source": [
    "Como comparamos se as strings ( *usuario , usuario_cadastro* ) e ( *senha , senha_cadastro* ) são iguais para conceder ou bloquear o acesso do usuário?"
   ]
  },
  {
   "cell_type": "markdown",
   "metadata": {},
   "source": [
    "**5.2. Definição**\n",
    "\n",
    "Armazenam **valores lógicos**:\n",
    "- True (verdadeiro);\n",
    "- False (falso)."
   ]
  },
  {
   "cell_type": "code",
   "execution_count": null,
   "metadata": {},
   "outputs": [],
   "source": [
    "verdadeiro = True\n",
    "print(verdadeiro)"
   ]
  },
  {
   "cell_type": "code",
   "execution_count": null,
   "metadata": {},
   "outputs": [],
   "source": [
    "falso = False\n",
    "print(falso)"
   ]
  },
  {
   "cell_type": "markdown",
   "metadata": {},
   "source": [
    "São do tipo *bool*. "
   ]
  },
  {
   "cell_type": "code",
   "execution_count": null,
   "metadata": {},
   "outputs": [],
   "source": [
    "print(type(True))"
   ]
  },
  {
   "cell_type": "markdown",
   "metadata": {},
   "source": [
    "São resultados de comparações lógicas. Os operadores de comparação lógica são:\n",
    "- '>(maior);'\n",
    "- <(menor);\n",
    "- ==(igual);\n",
    "- '>=(maior ou igual);'\n",
    "- <=(menor ou igual);\n",
    "- !=(diferente).\n",
    "\n",
    "**Exemplo:** Caixa eletrônico"
   ]
  },
  {
   "cell_type": "code",
   "execution_count": null,
   "metadata": {},
   "outputs": [],
   "source": [
    "saldo_em_conta = 200\n",
    "valor_do_saque = 100\n",
    "\n",
    "pode_executar_saque = valor_do_saque <= saldo_em_conta\n",
    "print(pode_executar_saque)"
   ]
  },
  {
   "cell_type": "markdown",
   "metadata": {},
   "source": [
    "**Exemplo:** Cartão de crédito"
   ]
  },
  {
   "cell_type": "code",
   "execution_count": null,
   "metadata": {},
   "outputs": [],
   "source": [
    "codigo_de_seguranca = '852'\n",
    "codigo_de_seguranca_cadastro = '010'\n",
    "\n",
    "pode_efetuar_pagamento = codigo_de_seguranca == codigo_de_seguranca_cadastro\n",
    "print(pode_efetuar_pagamento)"
   ]
  },
  {
   "cell_type": "markdown",
   "metadata": {},
   "source": [
    "**5.3. Operações**\n",
    "\n",
    "As operações de variáveis booleanas são:\n",
    "\n",
    "- | (operador ou)\n",
    "- & (operador e)\n",
    "- not (operador não)\n",
    "\n",
    "O conjunto de resultados de operações lógicas geralmente é resumido em uma tabela chamada \"tabela da verdade\":\n",
    "\n"
   ]
  },
  {
   "cell_type": "markdown",
   "metadata": {},
   "source": [
    "![image.png](data:image/png;base64,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)"
   ]
  },
  {
   "cell_type": "markdown",
   "metadata": {},
   "source": [
    "**Exemplo:** Tabela da verdade do operador | (ou)."
   ]
  },
  {
   "cell_type": "code",
   "execution_count": null,
   "metadata": {},
   "outputs": [],
   "source": [
    "print(True | True)\n",
    "print(True | False)\n",
    "print(False | False)\n",
    "print(False | True)"
   ]
  },
  {
   "cell_type": "markdown",
   "metadata": {},
   "source": [
    "**Exemplo:** Tabela da verdade do operador & (e)."
   ]
  },
  {
   "cell_type": "code",
   "execution_count": null,
   "metadata": {},
   "outputs": [],
   "source": [
    "print(True & True)\n",
    "print(True & False)\n",
    "print(False & False)\n",
    "print(False & True)"
   ]
  },
  {
   "cell_type": "markdown",
   "metadata": {},
   "source": [
    "**Exemplo:** Tabela da verdade do operador not (não)."
   ]
  },
  {
   "cell_type": "code",
   "execution_count": null,
   "metadata": {},
   "outputs": [],
   "source": [
    "print(not True)\n",
    "print(not False)"
   ]
  },
  {
   "cell_type": "markdown",
   "metadata": {},
   "source": [
    "**5.4. Conversão**\n",
    "\n",
    "Podemos converter tipos numéricos e strings para booleanos através do método nativo bool:"
   ]
  },
  {
   "cell_type": "code",
   "execution_count": null,
   "metadata": {},
   "outputs": [],
   "source": [
    "idade = 19\n",
    "tipo_sangue = 'O-'\n",
    "filhos = 0\n",
    "telefone_fixo = None\n",
    "telefone_fixo = ''\n",
    "\n",
    "print(bool(idade))\n",
    "print(bool(tipo_sangue))\n",
    "print(bool(filhos))\n",
    "print(bool(telefone_fixo))\n",
    "print(bool(telefone_fixo))"
   ]
  },
  {
   "cell_type": "markdown",
   "metadata": {},
   "source": [
    "**5.5. Revisitando a motivação**\n",
    "\n",
    "Compara se os dados fornecidos pelo usuário são iguais aos dados do cadastro:"
   ]
  },
  {
   "cell_type": "code",
   "execution_count": null,
   "metadata": {},
   "outputs": [],
   "source": [
    "usuario_igual = usuario == usuario_cadastro\n",
    "senha_igual = senha == usuario_senha\n",
    "\n",
    "print(usuario_igual)\n",
    "print(senha_igual)"
   ]
  },
  {
   "cell_type": "markdown",
   "metadata": {},
   "source": [
    "Decide se concede o acesso:"
   ]
  },
  {
   "cell_type": "code",
   "execution_count": null,
   "metadata": {},
   "outputs": [],
   "source": [
    "conceder_acesso = usuario_igual & senha_igual\n",
    "print(conceder_acesso)"
   ]
  }
 ],
 "metadata": {
  "kernelspec": {
   "display_name": "Python 3.11.0 64-bit",
   "language": "python",
   "name": "python3"
  },
  "language_info": {
   "name": "python",
   "version": "3.11.0"
  },
  "orig_nbformat": 4,
  "vscode": {
   "interpreter": {
    "hash": "c261aea317cc0286b3b3261fbba9abdec21eaa57589985bb7a274bf54d6cc0a7"
   }
  }
 },
 "nbformat": 4,
 "nbformat_minor": 2
}
