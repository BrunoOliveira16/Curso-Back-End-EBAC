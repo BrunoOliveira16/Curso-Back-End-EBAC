{
 "cells": [
  {
   "cell_type": "markdown",
   "metadata": {},
   "source": [
    "Módulo 1 - Váriaveis & Tipos de Dados\n",
    "\n",
    "**Aula 1: Introdução ao Google Colab**\n",
    "\n",
    "Ferramenta web autogerênciada de cadernos (notebooks)."
   ]
  },
  {
   "cell_type": "markdown",
   "metadata": {},
   "source": [
    "**1.1. Ferramenta web**\n",
    "\n",
    "- Crie uma conta Google em gmail.com;\n",
    "- Acesse o Google Colab através do endereço colab.research.google.com."
   ]
  },
  {
   "cell_type": "markdown",
   "metadata": {},
   "source": [
    "**1.2. Autogerênciada**\n",
    "\n",
    "- A Google provisiona uma máquina virtual para você;\n",
    "- A máquina virtual dura no máximo 12h."
   ]
  },
  {
   "cell_type": "markdown",
   "metadata": {},
   "source": [
    "**1.3. Cadernos (notebooks)**\n",
    "\n",
    "- Um caderno é um documento web composto por um conjunto de elementos (células) de texto\n",
    "\n",
    "e código:\n",
    "- Células de texto podem ser editados com o editor da ferramenta, HTML ou Markdown;\n",
    "- Células de código são exclusivamente para a linguagem de programação Python."
   ]
  },
  {
   "cell_type": "code",
   "execution_count": null,
   "metadata": {},
   "outputs": [],
   "source": [
    "print('Olá mundo!')"
   ]
  }
 ],
 "metadata": {
  "kernelspec": {
   "display_name": "Python 3.11.0 64-bit",
   "language": "python",
   "name": "python3"
  },
  "language_info": {
   "codemirror_mode": {
    "name": "ipython",
    "version": 3
   },
   "file_extension": ".py",
   "mimetype": "text/x-python",
   "name": "python",
   "nbconvert_exporter": "python",
   "pygments_lexer": "ipython3",
   "version": "3.11.0"
  },
  "orig_nbformat": 4,
  "vscode": {
   "interpreter": {
    "hash": "c261aea317cc0286b3b3261fbba9abdec21eaa57589985bb7a274bf54d6cc0a7"
   }
  }
 },
 "nbformat": 4,
 "nbformat_minor": 2
}
