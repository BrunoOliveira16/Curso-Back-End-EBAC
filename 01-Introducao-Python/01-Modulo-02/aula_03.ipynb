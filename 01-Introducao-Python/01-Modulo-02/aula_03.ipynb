{
 "cells": [
  {
   "cell_type": "markdown",
   "metadata": {},
   "source": [
    "## 3\\. Dicionários"
   ]
  },
  {
   "cell_type": "markdown",
   "metadata": {},
   "source": [
    "### **3.1. Motivação**"
   ]
  },
  {
   "cell_type": "markdown",
   "metadata": {},
   "source": [
    "Para se conectar a uma rede wi-fi, você precisa de duas informações: o nome da rede e a senha de acesso. Quando você vai acessar uma nova rede, você encontra uma lista de redes disponíveis:"
   ]
  },
  {
   "cell_type": "code",
   "execution_count": null,
   "metadata": {},
   "outputs": [],
   "source": [
    "wifi_disponiveis = ['rede1', 'cnx_cnx', 'uai-fi', 'r3d3']\n",
    "print(wifi_disponiveis)"
   ]
  },
  {
   "cell_type": "markdown",
   "metadata": {},
   "source": [
    "Você consegue identificar quais são os nome de redes e suas respectivas senhas? Talvez uma list não seja a melhor opção para armazenar esse tipo de dado."
   ]
  },
  {
   "cell_type": "markdown",
   "metadata": {},
   "source": [
    "### **3.2. Definição** "
   ]
  },
  {
   "cell_type": "markdown",
   "metadata": {},
   "source": [
    "Armazenam sequências no formato chave-valor. São do tipo `dict`."
   ]
  },
  {
   "cell_type": "code",
   "execution_count": null,
   "metadata": {},
   "outputs": [],
   "source": [
    "brasil = {'capital': 'Brasília', 'idioma': 'Português', 'populacao': 210}\n",
    "\n",
    "print(brasil)\n",
    "print(type(brasil))"
   ]
  },
  {
   "cell_type": "markdown",
   "metadata": {},
   "source": [
    "Não é permite chaves duplicadas."
   ]
  },
  {
   "cell_type": "code",
   "execution_count": null,
   "metadata": {},
   "outputs": [],
   "source": [
    "carro = {\n",
    "    'marca': 'Volkswagen',\n",
    "    'modelo': 'Polo',\n",
    "    'ano': 2021,\n",
    "    'ano': 2004\n",
    "}\n",
    "\n",
    "print(carro)"
   ]
  },
  {
   "cell_type": "markdown",
   "metadata": {},
   "source": [
    "Podemos criar dicionários compostos:"
   ]
  },
  {
   "cell_type": "code",
   "execution_count": null,
   "metadata": {},
   "outputs": [],
   "source": [
    "cadastro = {\n",
    "    'andre': {\n",
    "        'nome': 'Andre Perez', \n",
    "        'ano_nascimento': 1992, \n",
    "        'pais': {\n",
    "            'pai': {\n",
    "              'nome': '<nome-do-pai> Perez', \n",
    "              'ano_nascimento': 1971\n",
    "            },\n",
    "            'mae': {\n",
    "              'nome': '<nome-da-mae> Perez', \n",
    "              'ano_nascimento': 1973\n",
    "            },\n",
    "        }\n",
    "    }\n",
    "}\n",
    "\n",
    "print(cadastro)"
   ]
  },
  {
   "cell_type": "markdown",
   "metadata": {},
   "source": [
    "Filtrando o ano de nascimento da mãe dentro das informações de cadastro:"
   ]
  },
  {
   "cell_type": "code",
   "execution_count": null,
   "metadata": {},
   "outputs": [],
   "source": [
    "cadastro['andre']['pais']['mae']['ano_nascimento']"
   ]
  },
  {
   "cell_type": "markdown",
   "metadata": {},
   "source": [
    "### **3.3. Operações** "
   ]
  },
  {
   "cell_type": "code",
   "execution_count": 6,
   "metadata": {},
   "outputs": [],
   "source": [
    "credito = {'123': 750, '789': 980}"
   ]
  },
  {
   "cell_type": "markdown",
   "metadata": {},
   "source": [
    "Elementos são acessados pela sua chave."
   ]
  },
  {
   "cell_type": "code",
   "execution_count": null,
   "metadata": {},
   "outputs": [],
   "source": [
    "score_123 = credito['123']\n",
    "score_789 = credito['789']\n",
    "\n",
    "print(score_123)\n",
    "print(score_789)"
   ]
  },
  {
   "cell_type": "markdown",
   "metadata": {},
   "source": [
    "Elementos são atualizados pela sua chave."
   ]
  },
  {
   "cell_type": "code",
   "execution_count": null,
   "metadata": {},
   "outputs": [],
   "source": [
    "credito['123'] = 435\n",
    "print(credito)"
   ]
  },
  {
   "cell_type": "markdown",
   "metadata": {},
   "source": [
    "Para adicionar um novo elemento, basta criar um novo elemento chave-valor:"
   ]
  },
  {
   "cell_type": "code",
   "execution_count": null,
   "metadata": {},
   "outputs": [],
   "source": [
    "credito['456'] = 1000\n",
    "print(credito)"
   ]
  },
  {
   "cell_type": "markdown",
   "metadata": {},
   "source": [
    "### **3.4. Métodos**"
   ]
  },
  {
   "cell_type": "markdown",
   "metadata": {},
   "source": [
    "São métodos nativos do Python que nos ajudam a trabalhar no dia a dia com dicionários."
   ]
  },
  {
   "cell_type": "code",
   "execution_count": 19,
   "metadata": {},
   "outputs": [],
   "source": [
    "# Outra forma de como se escrever\n",
    "artigo = dict(\n",
    "    titulo='Modulo 02 | Python: Estruturas de Dados',\n",
    "    corpo='Topicos, Aulas, Listas, Conjuntos, Dicionários, ...',\n",
    "    total_caracteres=1530\n",
    ")"
   ]
  },
  {
   "cell_type": "code",
   "execution_count": null,
   "metadata": {},
   "outputs": [],
   "source": [
    "# adicionar/atualizar um elemento pelo chave-valor: dict.update(dict)\n",
    "print(artigo)\n",
    "artigo.update({'total_caracteres': 7850})\n",
    "print(artigo)"
   ]
  },
  {
   "cell_type": "code",
   "execution_count": null,
   "metadata": {},
   "outputs": [],
   "source": [
    "# remover um elemento pelo chave: dict.pop(key)\n",
    "print(artigo)\n",
    "total_caracteres = artigo.pop('total_caracteres')\n",
    "print(artigo)"
   ]
  },
  {
   "cell_type": "markdown",
   "metadata": {},
   "source": [
    "### **3.5. Conversão**"
   ]
  },
  {
   "cell_type": "markdown",
   "metadata": {},
   "source": [
    "Podemos converter as chaves e os items de um dicionário em uma lista."
   ]
  },
  {
   "cell_type": "code",
   "execution_count": 22,
   "metadata": {},
   "outputs": [],
   "source": [
    "artigo = dict(\n",
    "    titulo='Modulo 02 | Python: Estruturas de Dados',\n",
    "    corpo='Topicos, Aulas, Listas, Conjuntos, Dicionários, ...',\n",
    "    total_caracteres=1530\n",
    ")"
   ]
  },
  {
   "cell_type": "code",
   "execution_count": null,
   "metadata": {},
   "outputs": [],
   "source": [
    "chaves = list(artigo.keys())\n",
    "\n",
    "print(chaves)\n",
    "print(type(chaves))"
   ]
  },
  {
   "cell_type": "code",
   "execution_count": null,
   "metadata": {},
   "outputs": [],
   "source": [
    "valores = list(artigo.values())\n",
    "\n",
    "print(valores)\n",
    "print(type(valores))"
   ]
  },
  {
   "cell_type": "markdown",
   "metadata": {},
   "source": [
    "### **3.6. Revisitando a motivação** "
   ]
  },
  {
   "cell_type": "code",
   "execution_count": 45,
   "metadata": {},
   "outputs": [],
   "source": [
    "wifi_disponiveis = []"
   ]
  },
  {
   "cell_type": "code",
   "execution_count": 46,
   "metadata": {},
   "outputs": [],
   "source": [
    "rede = {'nome':'redel', 'senha':'cnx_cnx'}\n",
    "wifi_disponiveis.append(rede)"
   ]
  },
  {
   "cell_type": "code",
   "execution_count": 47,
   "metadata": {},
   "outputs": [],
   "source": [
    "rede = {'nome':'uai-fi', 'senha':'r3d3'}\n",
    "wifi_disponiveis.append(rede)"
   ]
  },
  {
   "cell_type": "code",
   "execution_count": 56,
   "metadata": {},
   "outputs": [
    {
     "name": "stdout",
     "output_type": "stream",
     "text": [
      "[{'nome': 'redel', 'senha': 'cnx_cnx'}, {'nome': 'uai-fi', 'senha': 'r3d3'}]\n"
     ]
    }
   ],
   "source": [
    "print(wifi_disponiveis)"
   ]
  }
 ],
 "metadata": {
  "kernelspec": {
   "display_name": "Python 3.11.0 64-bit",
   "language": "python",
   "name": "python3"
  },
  "language_info": {
   "codemirror_mode": {
    "name": "ipython",
    "version": 3
   },
   "file_extension": ".py",
   "mimetype": "text/x-python",
   "name": "python",
   "nbconvert_exporter": "python",
   "pygments_lexer": "ipython3",
   "version": "3.11.0"
  },
  "orig_nbformat": 4,
  "vscode": {
   "interpreter": {
    "hash": "c261aea317cc0286b3b3261fbba9abdec21eaa57589985bb7a274bf54d6cc0a7"
   }
  }
 },
 "nbformat": 4,
 "nbformat_minor": 2
}
