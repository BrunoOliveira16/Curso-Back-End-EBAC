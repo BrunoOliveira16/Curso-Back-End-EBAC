{
  "cells": [
    {
      "cell_type": "markdown",
      "metadata": {
        "id": "LaWXQ32ltNQ5"
      },
      "source": [
        "**Módulo 1 - Váriaveis & Tipos de Dados**\n",
        "- Aula 1: Introdução ao Google Colab"
      ]
    },
    {
      "cell_type": "markdown",
      "metadata": {
        "id": "97H1LcUWrhIv"
      },
      "source": [
        "**Meu Primeiro código**"
      ]
    },
    {
      "cell_type": "code",
      "execution_count": null,
      "metadata": {
        "id": "8v1SoUybmTAa"
      },
      "outputs": [],
      "source": [
        "print(\"Olá, mundo!\")"
      ]
    },
    {
      "cell_type": "markdown",
      "metadata": {
        "id": "rfOw9K46tfGX"
      },
      "source": [
        "**Módulo 1 - Váriaveis & Tipos de Dados**\n",
        "- Aula 2: Váriaveis"
      ]
    },
    {
      "cell_type": "markdown",
      "metadata": {
        "id": "PWvJG4ZmrOB0"
      },
      "source": [
        "**Tipos de Váriaveis**"
      ]
    },
    {
      "cell_type": "code",
      "execution_count": null,
      "metadata": {
        "id": "EN3ER6Paoejj"
      },
      "outputs": [],
      "source": [
        "idade = 30\n",
        "print(idade)\n",
        "\n",
        "idade = 27\n",
        "print(idade)\n",
        "\n",
        "nome = \"Bruno\"\n",
        "print(nome)"
      ]
    },
    {
      "cell_type": "markdown",
      "metadata": {
        "id": "20HZ7t2fq_uR"
      },
      "source": [
        "**Tipos Numéricos:** Inteiros (int) e Real (float)"
      ]
    },
    {
      "cell_type": "code",
      "execution_count": null,
      "metadata": {
        "id": "NCGJTJuFqFmm"
      },
      "outputs": [],
      "source": [
        "preco_do_xbox = 4000\n",
        "tipo_preco = type(preco_do_xbox)\n",
        "\n",
        "print(preco_do_xbox)\n",
        "print(tipo_preco)\n",
        "\n",
        "juros = 0.55\n",
        "tipo_juros = type(juros)\n",
        "\n",
        "print(juros)\n",
        "print(tipo_juros)"
      ]
    },
    {
      "cell_type": "markdown",
      "metadata": {
        "id": "u9En0va9rYvw"
      },
      "source": [
        "**Tipos de Texto:** strings (str)"
      ]
    },
    {
      "cell_type": "code",
      "execution_count": null,
      "metadata": {
        "id": "_7UZmMjcq5lE"
      },
      "outputs": [],
      "source": [
        "primeiro_nome = \"Bruno\"\n",
        "print(primeiro_nome)\n",
        "print(type(primeiro_nome))\n",
        "\n",
        "estado = 'Rio de Janeiro'\n",
        "print(estado)\n",
        "print(type(estado))"
      ]
    },
    {
      "cell_type": "markdown",
      "metadata": {
        "id": "noUAl0Z_sB8w"
      },
      "source": [
        "**Tipos lógicos:** booleanos (bool)"
      ]
    },
    {
      "cell_type": "code",
      "execution_count": null,
      "metadata": {
        "id": "m5ftZMdnsJM7"
      },
      "outputs": [],
      "source": [
        "usuario_maior_de_idade = True\n",
        "\n",
        "print(usuario_maior_de_idade)\n",
        "print(type(usuario_maior_de_idade))"
      ]
    },
    {
      "cell_type": "markdown",
      "metadata": {
        "id": "j9g9sNKes2e-"
      },
      "source": [
        "**Tipo vazio:** (NoneType)"
      ]
    },
    {
      "cell_type": "code",
      "execution_count": null,
      "metadata": {
        "id": "b_cQvU89s7hX"
      },
      "outputs": [],
      "source": [
        "telefone_fixo = None\n",
        "\n",
        "print(telefone_fixo)\n",
        "print(type(telefone_fixo))"
      ]
    },
    {
      "cell_type": "markdown",
      "metadata": {
        "id": "s7-qCs8m2lfW"
      },
      "source": [
        "**Módulo 1 - Váriaveis & Tipos de Dados**\n",
        "- Aula 3: Números"
      ]
    },
    {
      "cell_type": "markdown",
      "metadata": {
        "id": "Hwmqv5132rek"
      },
      "source": [
        "**3.1. Motivação**\n",
        "\n",
        "Você precisa calcular o **ticket médio** diário **tkt** do seu restaurante. A métrica é calculada pela soma do valor das vendas **svv** de um mesmo dia dividido pela quantidade de vendas **sqv** , também de um mesmo dia.\n",
        "\n",
        "*$tkt = svv / sqv$*\n",
        "\n",
        "Esta é a sua planilha:"
      ]
    },
    {
      "cell_type": "markdown",
      "metadata": {
        "id": "_YfbA5bu3LKs"
      },
      "source": [
        "![image.png](data:image/png;base64,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)\n",
        "\n",
        "Como podemos fazer este cálculo usando o Python?"
      ]
    },
    {
      "cell_type": "markdown",
      "metadata": {
        "id": "Fd4ApgZx3Wjn"
      },
      "source": [
        "**3.2. Definição**\n",
        "\n",
        "Armazenam valores numéricos:\n",
        "- 10, 37, 500 (inteiros);\n",
        "- 0.333, 10.1 (decimais);\n",
        "- 1 + 2j (complexos).\n",
        "\n",
        "São dos tipos:\n",
        "- int (inteiros);\n",
        "- float (decimais);\n",
        "- complex (complexos)."
      ]
    },
    {
      "cell_type": "code",
      "execution_count": null,
      "metadata": {
        "id": "gaXJY4em32Ku"
      },
      "outputs": [],
      "source": [
        "print(type(37))\n",
        "print(type(10.15))\n",
        "print(type(1 + 2j))"
      ]
    },
    {
      "cell_type": "markdown",
      "metadata": {
        "id": "qV_JaUQt4FSw"
      },
      "source": [
        "**3.3. Operações**\n",
        "\n",
        "As operações dos tipos numéricos são as quatro operações matemáticas fundamentais:\n",
        "- +(soma);\n",
        "- -(subtração);\n",
        "- *(multiplicação);\n",
        "- /(divisão).\n",
        "\n",
        "Além de operações mais avançadas:\n",
        "- //(divisão inteira)\n",
        "- **(potência ou exponenciação);\n",
        "- %(resto de divisão).\n",
        "\n",
        "**Exemplo:** Carrinho de compra de um e-commerce.\n"
      ]
    },
    {
      "cell_type": "code",
      "execution_count": null,
      "metadata": {
        "id": "XxkaGgs94jIl"
      },
      "outputs": [],
      "source": [
        "qtd_items_carrinho_compra = 0\n",
        "\n",
        "qtd_items_carrinho_compra = qtd_items_carrinho_compra + 1\n",
        "print(qtd_items_carrinho_compra)\n",
        "\n",
        "qtd_items_carrinho_compra = qtd_items_carrinho_compra + 1\n",
        "print(qtd_items_carrinho_compra)"
      ]
    },
    {
      "cell_type": "code",
      "execution_count": null,
      "metadata": {
        "id": "YQzyA_9A46bi"
      },
      "outputs": [],
      "source": [
        "qtd_items_carrinho_compra = 0\n",
        "\n",
        "qtd_items_carrinho_compra += 1\n",
        "print(qtd_items_carrinho_compra)\n",
        "\n",
        "qtd_items_carrinho_compra += 1\n",
        "print(qtd_items_carrinho_compra)"
      ]
    },
    {
      "cell_type": "markdown",
      "metadata": {
        "id": "LdSlgRLX5MJ7"
      },
      "source": [
        "**Exemplo:** Total a pagar de um produto"
      ]
    },
    {
      "cell_type": "code",
      "execution_count": null,
      "metadata": {
        "id": "LJUSPQ8J5RiV"
      },
      "outputs": [],
      "source": [
        "preco = 47\n",
        "quantidade = 0.250\n",
        "\n",
        "total_a_pagar = quantidade * preco\n",
        "print(total_a_pagar)"
      ]
    },
    {
      "cell_type": "code",
      "execution_count": null,
      "metadata": {
        "id": "yLNaDsMN573L"
      },
      "outputs": [],
      "source": [
        "a = 3\n",
        "b = 2\n",
        "\n",
        "c = a / b\n",
        "print(c)\n",
        "print(type(c))\n",
        "\n",
        "d = a // b\n",
        "print(d)\n",
        "print(type(d))"
      ]
    },
    {
      "cell_type": "markdown",
      "metadata": {
        "id": "tohAJvXa5gtb"
      },
      "source": [
        "**3.4. Conversão**\n",
        "\n",
        "Podemos converter os tipos numéricos entre si utilizando o método nativo *int*, *float* e *complex*:"
      ]
    },
    {
      "cell_type": "code",
      "execution_count": null,
      "metadata": {
        "id": "ZiGIuSTu5yvT"
      },
      "outputs": [],
      "source": [
        "print(int(3.9))"
      ]
    },
    {
      "cell_type": "code",
      "execution_count": null,
      "metadata": {
        "id": "WfizTGGB6a0-"
      },
      "outputs": [],
      "source": [
        "print(float(10))"
      ]
    },
    {
      "cell_type": "code",
      "execution_count": null,
      "metadata": {
        "id": "xbXFg2lG6e7i"
      },
      "outputs": [],
      "source": [
        "print(complex(1))"
      ]
    },
    {
      "cell_type": "markdown",
      "metadata": {
        "id": "BiC1aDPV6uLr"
      },
      "source": [
        "**3.5. Revisitando a motivação**\n",
        "\n",
        "![image.png](data:image/png;base64,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)\n"
      ]
    },
    {
      "cell_type": "markdown",
      "metadata": {
        "id": "CEUUFXuI66PH"
      },
      "source": [
        "Ticket médio diário do dia 19/01."
      ]
    },
    {
      "cell_type": "code",
      "execution_count": null,
      "metadata": {
        "id": "yXqraur_7EX_"
      },
      "outputs": [],
      "source": [
        "svv_19 = 153.98\n",
        "sqv_19 = 3\n",
        "\n",
        "tkt_19 = svv_19 / sqv_19\n",
        "print(tkt_19)"
      ]
    },
    {
      "cell_type": "markdown",
      "metadata": {
        "id": "bXQythzX7XdY"
      },
      "source": [
        "Ticket médio diário do dia 20/01."
      ]
    },
    {
      "cell_type": "code",
      "execution_count": null,
      "metadata": {
        "id": "g05-Nkgb7ZLK"
      },
      "outputs": [],
      "source": [
        "svv_20 = 337.01\n",
        "sqv_20 = 7\n",
        "\n",
        "tkt_20 = svv_20 / sqv_20\n",
        "print(tkt_20)"
      ]
    },
    {
      "cell_type": "markdown",
      "metadata": {
        "id": "2gbwSTCg7qS4"
      },
      "source": [
        "Ticket médio diário do dia 23/01."
      ]
    },
    {
      "cell_type": "code",
      "execution_count": null,
      "metadata": {
        "id": "hS548GKs7rwk"
      },
      "outputs": [],
      "source": [
        "svv_23 = 295.33\n",
        "sqv_23 = 5\n",
        "\n",
        "tkt_23 = svv_23 / sqv_23\n",
        "print(tkt_23)"
      ]
    },
    {
      "cell_type": "markdown",
      "metadata": {
        "id": "QFZ3SbUn70Ov"
      },
      "source": [
        "Ticket Médio"
      ]
    },
    {
      "cell_type": "code",
      "execution_count": null,
      "metadata": {
        "id": "pxXCGXY77328"
      },
      "outputs": [],
      "source": [
        "tkt = (tkt_19 + tkt_20 + tkt_23) / 3\n",
        "print(tkt)"
      ]
    },
    {
      "cell_type": "markdown",
      "metadata": {
        "id": "-GMG4062qnv9"
      },
      "source": [
        "Módulo 1 - Váriaveis & Tipos de Dados\n",
        "\n",
        "**Aula 4: Strings**"
      ]
    },
    {
      "cell_type": "markdown",
      "metadata": {
        "id": "IX69HGo3q3eN"
      },
      "source": [
        "**4.1. Motivação**\n",
        "\n",
        "A empresa que você trabalha adquiriu uma startup de logística. Você precisa identificar todos endereços que são comum a ambas. Na sua empresa, você armazena a latitude e longitude dos endereços em duas variáveis *lat* e *lon* , já a startup adquirida em uma única variável *latlon* ."
      ]
    },
    {
      "cell_type": "code",
      "execution_count": 1,
      "metadata": {
        "id": "1MqPXnfarHAL"
      },
      "outputs": [],
      "source": [
        "# sua empresa\n",
        "lat = '-22.005320'\n",
        "lon = '-47.891040'\n",
        "\n",
        "#startup adquirida\n",
        "latlon = '-22.005320; -47.891040'"
      ]
    },
    {
      "cell_type": "markdown",
      "metadata": {
        "id": "iP-0TfHfrlVw"
      },
      "source": [
        "**4.2. Definição**\n",
        "\n",
        "Armazenam **textos**:\n",
        "- *c* , EBAC , Andre Perez, 20 anos (texto). São do tipo *str* :"
      ]
    },
    {
      "cell_type": "code",
      "execution_count": null,
      "metadata": {
        "id": "0Cd06HQ1rz0h"
      },
      "outputs": [],
      "source": [
        "nome_aula = \"Aula 04, Módulo 01, Strings\"\n",
        "\n",
        "print(nome_aula)\n",
        "print(type(nome_aula))"
      ]
    },
    {
      "cell_type": "code",
      "execution_count": null,
      "metadata": {
        "id": "j99kwsjTsOlu"
      },
      "outputs": [],
      "source": [
        "string_vazia = ''\n",
        "print(string_vazia)\n",
        "print(type(string_vazia))"
      ]
    },
    {
      "cell_type": "markdown",
      "metadata": {
        "id": "qkEbdUl0syvf"
      },
      "source": [
        "**4.3. Operações**\n",
        "\n",
        "As operações de variáveis do tipo string são:\n",
        "- +(concatenação).\n",
        "\n",
        "**Exemplo:** Nome completo."
      ]
    },
    {
      "cell_type": "code",
      "execution_count": null,
      "metadata": {
        "id": "PAjyAImWs9sV"
      },
      "outputs": [],
      "source": [
        "nome = 'Andre Marcos'\n",
        "sobrenome = 'Perez'\n",
        "\n",
        "apresentacao = 'Olá, meu nome é ' + nome + ' ' + sobrenome + '.'\n",
        "print(apresentacao)"
      ]
    },
    {
      "cell_type": "markdown",
      "metadata": {
        "id": "JC6-fsset55Z"
      },
      "source": [
        "Uma outra forma de concatenar strings é utilizar operações de formatação:"
      ]
    },
    {
      "cell_type": "code",
      "execution_count": null,
      "metadata": {
        "id": "hcKwWwmVuB87"
      },
      "outputs": [],
      "source": [
        "nome = 'Andre Marcos'\n",
        "sobrenome = 'Perez'\n",
        "\n",
        "apresentacao = f'Olá, meu nome é {nome} {sobrenome}.'\n",
        "print(apresentacao)"
      ]
    },
    {
      "cell_type": "markdown",
      "metadata": {
        "id": "oamuz5ztvKuF"
      },
      "source": [
        "Outra operação muito utilizada é a de fatiamento (slicing):\n",
        "\n",
        "**Exemplo:** informações de email."
      ]
    },
    {
      "cell_type": "code",
      "execution_count": 8,
      "metadata": {
        "id": "8eM6eV0uvWPF"
      },
      "outputs": [],
      "source": [
        "email = 'andre.perez@gmail.com'"
      ]
    },
    {
      "cell_type": "markdown",
      "metadata": {
        "id": "r8_QlsRdvclp"
      },
      "source": [
        "Fatiamento fixo:\n",
        "\n",
        "![image.png](data:image/png;base64,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)"
      ]
    },
    {
      "cell_type": "code",
      "execution_count": null,
      "metadata": {
        "id": "-pe3ISsg1ZtQ"
      },
      "outputs": [],
      "source": [
        "print('0: ' + email[0])\n",
        "print('11: ' + email[11])"
      ]
    },
    {
      "cell_type": "code",
      "execution_count": null,
      "metadata": {
        "id": "KAj4Jj3N1trc"
      },
      "outputs": [],
      "source": [
        "print('-1: ' + email[-1])\n",
        "print('-2: ' + email[-2])"
      ]
    },
    {
      "cell_type": "markdown",
      "metadata": {
        "id": "mFIgouBw2pqs"
      },
      "source": [
        "Fatiamento por intervalo:\n",
        "\n",
        "![image.png](data:image/png;base64,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)"
      ]
    },
    {
      "cell_type": "code",
      "execution_count": null,
      "metadata": {
        "id": "G6PUV8Sf27Ao"
      },
      "outputs": [],
      "source": [
        "email_usuario = email[0:11]\n",
        "print(email_usuario)"
      ]
    },
    {
      "cell_type": "code",
      "execution_count": null,
      "metadata": {
        "id": "BomDCDrx3Fgr"
      },
      "outputs": [],
      "source": [
        "email_provedor = email[11:21]\n",
        "print(email_provedor)"
      ]
    },
    {
      "cell_type": "markdown",
      "metadata": {
        "id": "0iPJ6_N_4YgS"
      },
      "source": [
        "**4.4. Métodos**\n",
        "\n",
        "São métodos nativos do Python que nos ajudam a trabalhar no dia a dia com strings:"
      ]
    },
    {
      "cell_type": "code",
      "execution_count": null,
      "metadata": {
        "id": "ocZYW4wk4kt1"
      },
      "outputs": [],
      "source": [
        "endereco = 'Avenida Paulista, 1811, São Paulo, São Paulo, Brasil.'\n",
        "pais = endereco[46:53]\n",
        "cidade = endereco[24:33]\n",
        "estado = endereco[35:44]\n",
        "\n",
        "print(endereco)\n",
        "print(pais)\n",
        "print(cidade)\n",
        "print(estado.replace('São Paulo', 'SP'))"
      ]
    },
    {
      "cell_type": "code",
      "execution_count": null,
      "metadata": {
        "id": "vmbZE0X_4vJn"
      },
      "outputs": [],
      "source": [
        "# maiusculo: string.upper()\n",
        "print(endereco.upper())\n",
        "print(pais.upper())"
      ]
    },
    {
      "cell_type": "code",
      "execution_count": null,
      "metadata": {
        "id": "6uCS8Pka5U9U"
      },
      "outputs": [],
      "source": [
        "# posicao: string.find(substring)\n",
        "posicao = endereco.find('São Paulo')\n",
        "print(posicao)"
      ]
    },
    {
      "cell_type": "code",
      "execution_count": null,
      "metadata": {
        "id": "NSGqMgso6J_C"
      },
      "outputs": [],
      "source": [
        "# substituição: string.replace(antigo, novo)\n",
        "print(endereco.replace('Avenida', 'Av'))"
      ]
    },
    {
      "cell_type": "markdown",
      "metadata": {
        "id": "9f6Yk7xN61xI"
      },
      "source": [
        "**4.5. Conversão**\n",
        "\n",
        "Podemos converter strings em tipos numéricos e vice-versa."
      ]
    },
    {
      "cell_type": "code",
      "execution_count": null,
      "metadata": {
        "id": "UQztW3cn92Ez"
      },
      "outputs": [],
      "source": [
        "idade = 19\n",
        "print(type(idade))\n",
        "\n",
        "idade = str(idade)\n",
        "print(type(idade))"
      ]
    },
    {
      "cell_type": "code",
      "execution_count": null,
      "metadata": {
        "id": "7CmJu1fR-arI"
      },
      "outputs": [],
      "source": [
        "faturamento = 'R$ 35 mil'\n",
        "print(type(faturamento))\n",
        "\n",
        "faturamento = int(faturamento[3:5])\n",
        "print(faturamento)\n",
        "print(type(faturamento))"
      ]
    },
    {
      "cell_type": "code",
      "execution_count": null,
      "metadata": {
        "id": "9JRD4M_G_eSJ"
      },
      "outputs": [],
      "source": [
        "faturamento = 'R$ 35 mil'\n",
        "print(type(faturamento))\n",
        "\n",
        "faturamento = float(faturamento[3:5])\n",
        "print(faturamento)\n",
        "print(type(faturamento))"
      ]
    },
    {
      "cell_type": "markdown",
      "metadata": {
        "id": "rA3_6AdAAw6n"
      },
      "source": [
        "**4.6. Revisitando a motivação**\n",
        "\n",
        "Encontrando a posição do caracter ; de divisão das strings de latitude e longitude da variável da startup:"
      ]
    },
    {
      "cell_type": "code",
      "execution_count": null,
      "metadata": {
        "id": "_-C4n4IeBBSg"
      },
      "outputs": [],
      "source": [
        "posicao_char_divisao = latlon.find(';')\n",
        "print(posicao_char_divisao)"
      ]
    },
    {
      "cell_type": "markdown",
      "metadata": {
        "id": "CmRUeS0xBOwm"
      },
      "source": [
        "Extraindo a latitude:"
      ]
    },
    {
      "cell_type": "code",
      "execution_count": null,
      "metadata": {
        "id": "_rCq7s90BNtU"
      },
      "outputs": [],
      "source": [
        "lat_startup = latlon[0:posicao_char_divisao]\n",
        "print(lat_startup)"
      ]
    },
    {
      "cell_type": "markdown",
      "metadata": {
        "id": "5sOGdptiBhZ_"
      },
      "source": [
        "Extraindo a longitude:"
      ]
    },
    {
      "cell_type": "code",
      "execution_count": null,
      "metadata": {
        "id": "C4b_S31gBj93"
      },
      "outputs": [],
      "source": [
        "lon_startup = latlon[posicao_char_divisao+1:len(latlon)]\n",
        "print(lon_startup)"
      ]
    },
    {
      "cell_type": "markdown",
      "metadata": {},
      "source": [
        "Módulo 1 - Váriaveis & Tipos de Dados\n",
        "\n",
        "**Aula 5: Boleanos**"
      ]
    },
    {
      "cell_type": "markdown",
      "metadata": {},
      "source": [
        "**5.1. Motivação**\n",
        "\n",
        "Em websites (redes sociais, e-commerce, corporativos, etc.) é comum o uso de sistemas de controle de acesso, o famoso login. Em geral, nestes sistemas um usuário fornece dois dados:\n",
        "*usuario* e *senha*"
      ]
    },
    {
      "cell_type": "code",
      "execution_count": 2,
      "metadata": {},
      "outputs": [],
      "source": [
        "usuario = 'bruno.oliveira'\n",
        "senha = 'bruno123'"
      ]
    },
    {
      "cell_type": "markdown",
      "metadata": {},
      "source": [
        "Do lado do servidor, o backend do website tem armazenado os dados de usuário e senha fornecidas pelo usuário no momento do cadastro: *usuario_cadastro* e *senha_cadastro* "
      ]
    },
    {
      "cell_type": "code",
      "execution_count": 3,
      "metadata": {},
      "outputs": [],
      "source": [
        "usuario_cadastro = 'bruno.oliveira'\n",
        "usuario_senha = 'bruno321'"
      ]
    },
    {
      "cell_type": "markdown",
      "metadata": {},
      "source": [
        "Como comparamos se as strings ( *usuario , usuario_cadastro* ) e ( *senha , senha_cadastro* ) são iguais para conceder ou bloquear o acesso do usuário?"
      ]
    },
    {
      "cell_type": "markdown",
      "metadata": {},
      "source": [
        "**5.2. Definição**\n",
        "\n",
        "Armazenam **valores lógicos**:\n",
        "- True (verdadeiro);\n",
        "- False (falso)."
      ]
    },
    {
      "cell_type": "code",
      "execution_count": null,
      "metadata": {},
      "outputs": [],
      "source": [
        "verdadeiro = True\n",
        "print(verdadeiro)"
      ]
    },
    {
      "cell_type": "code",
      "execution_count": null,
      "metadata": {},
      "outputs": [],
      "source": [
        "falso = False\n",
        "print(falso)"
      ]
    },
    {
      "cell_type": "markdown",
      "metadata": {},
      "source": [
        "São do tipo *bool*. "
      ]
    },
    {
      "cell_type": "code",
      "execution_count": null,
      "metadata": {},
      "outputs": [],
      "source": [
        "print(type(True))"
      ]
    },
    {
      "cell_type": "markdown",
      "metadata": {},
      "source": [
        "São resultados de comparações lógicas. Os operadores de comparação lógica são:\n",
        "- '>(maior);'\n",
        "- <(menor);\n",
        "- ==(igual);\n",
        "- '>=(maior ou igual);'\n",
        "- <=(menor ou igual);\n",
        "- !=(diferente).\n",
        "\n",
        "**Exemplo:** Caixa eletrônico"
      ]
    },
    {
      "cell_type": "code",
      "execution_count": null,
      "metadata": {},
      "outputs": [],
      "source": [
        "saldo_em_conta = 200\n",
        "valor_do_saque = 100\n",
        "\n",
        "pode_executar_saque = valor_do_saque <= saldo_em_conta\n",
        "print(pode_executar_saque)"
      ]
    },
    {
      "cell_type": "markdown",
      "metadata": {},
      "source": [
        "**Exemplo:** Cartão de crédito"
      ]
    },
    {
      "cell_type": "code",
      "execution_count": null,
      "metadata": {},
      "outputs": [],
      "source": [
        "codigo_de_seguranca = '852'\n",
        "codigo_de_seguranca_cadastro = '010'\n",
        "\n",
        "pode_efetuar_pagamento = codigo_de_seguranca == codigo_de_seguranca_cadastro\n",
        "print(pode_efetuar_pagamento)"
      ]
    },
    {
      "cell_type": "markdown",
      "metadata": {},
      "source": [
        "**5.3. Operações**\n",
        "\n",
        "As operações de variáveis booleanas são:\n",
        "\n",
        "- | (operador ou)\n",
        "- & (operador e)\n",
        "- not (operador não)\n",
        "\n",
        "O conjunto de resultados de operações lógicas geralmente é resumido em uma tabela chamada \"tabela da verdade\":\n",
        "\n"
      ]
    },
    {
      "cell_type": "markdown",
      "metadata": {},
      "source": [
        "![image.png](data:image/png;base64,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)"
      ]
    },
    {
      "cell_type": "markdown",
      "metadata": {},
      "source": [
        "**Exemplo:** Tabela da verdade do operador | (ou)."
      ]
    },
    {
      "cell_type": "code",
      "execution_count": null,
      "metadata": {},
      "outputs": [],
      "source": [
        "print(True | True)\n",
        "print(True | False)\n",
        "print(False | False)\n",
        "print(False | True)"
      ]
    },
    {
      "cell_type": "markdown",
      "metadata": {},
      "source": [
        "**Exemplo:** Tabela da verdade do operador & (e)."
      ]
    },
    {
      "cell_type": "code",
      "execution_count": null,
      "metadata": {},
      "outputs": [],
      "source": [
        "print(True & True)\n",
        "print(True & False)\n",
        "print(False & False)\n",
        "print(False & True)"
      ]
    },
    {
      "cell_type": "markdown",
      "metadata": {},
      "source": [
        "**Exemplo:** Tabela da verdade do operador not (não)."
      ]
    },
    {
      "cell_type": "code",
      "execution_count": null,
      "metadata": {},
      "outputs": [],
      "source": [
        "print(not True)\n",
        "print(not False)"
      ]
    },
    {
      "cell_type": "markdown",
      "metadata": {},
      "source": [
        "**5.4. Conversão**\n",
        "\n",
        "Podemos converter tipos numéricos e strings para booleanos através do método nativo bool:"
      ]
    },
    {
      "cell_type": "code",
      "execution_count": null,
      "metadata": {},
      "outputs": [],
      "source": [
        "idade = 19\n",
        "tipo_sangue = 'O-'\n",
        "filhos = 0\n",
        "telefone_fixo = None\n",
        "telefone_fixo = ''\n",
        "\n",
        "print(bool(idade))\n",
        "print(bool(tipo_sangue))\n",
        "print(bool(filhos))\n",
        "print(bool(telefone_fixo))\n",
        "print(bool(telefone_fixo))"
      ]
    },
    {
      "cell_type": "markdown",
      "metadata": {},
      "source": [
        "**5.5. Revisitando a motivação**\n",
        "\n",
        "Compara se os dados fornecidos pelo usuário são iguais aos dados do cadastro:"
      ]
    },
    {
      "cell_type": "code",
      "execution_count": null,
      "metadata": {},
      "outputs": [],
      "source": [
        "usuario_igual = usuario == usuario_cadastro\n",
        "senha_igual = senha == usuario_senha\n",
        "\n",
        "print(usuario_igual)\n",
        "print(senha_igual)"
      ]
    },
    {
      "cell_type": "markdown",
      "metadata": {},
      "source": [
        "Decide se concede o acesso:"
      ]
    },
    {
      "cell_type": "code",
      "execution_count": null,
      "metadata": {},
      "outputs": [],
      "source": [
        "conceder_acesso = usuario_igual & senha_igual\n",
        "print(conceder_acesso)"
      ]
    }
  ],
  "metadata": {
    "colab": {
      "provenance": []
    },
    "kernelspec": {
      "display_name": "Python 3.11.0 64-bit",
      "language": "python",
      "name": "python3"
    },
    "language_info": {
      "codemirror_mode": {
        "name": "ipython",
        "version": 3
      },
      "file_extension": ".py",
      "mimetype": "text/x-python",
      "name": "python",
      "nbconvert_exporter": "python",
      "pygments_lexer": "ipython3",
      "version": "3.11.0"
    },
    "vscode": {
      "interpreter": {
        "hash": "c261aea317cc0286b3b3261fbba9abdec21eaa57589985bb7a274bf54d6cc0a7"
      }
    }
  },
  "nbformat": 4,
  "nbformat_minor": 0
}
