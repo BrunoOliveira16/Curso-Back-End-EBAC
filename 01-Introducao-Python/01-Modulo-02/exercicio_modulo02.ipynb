{
 "cells": [
  {
   "cell_type": "markdown",
   "metadata": {},
   "source": [
    "## Módulo 2 - Estrutura de Dados\n",
    "\n",
    "### **Exercícios**"
   ]
  },
  {
   "cell_type": "markdown",
   "metadata": {},
   "source": [
    "### **1. Listas**"
   ]
  },
  {
   "cell_type": "markdown",
   "metadata": {},
   "source": [
    "Crie uma lista chamada filmes com o nome dos 10 primeiros filmes mais bem avaliados no\n",
    "site no IMDB. Imprima o resultado.\n"
   ]
  },
  {
   "cell_type": "code",
   "execution_count": null,
   "metadata": {},
   "outputs": [],
   "source": [
    "filmes = ['Um Sonho de Liberdade', 'O Poderoso Chefão', 'Batman: O Cavaleiro das Trevas', 'O Poderoso Chefão II', '12 Homens e uma Sentença', 'A Lista de Schindler', 'O Senhor dos Anéis: O Retorno do Rei', 'Pulp Fiction: Tempo de Violência', 'O Senhor dos Anéis: A Sociedade do Anel', 'Três Homens em Conflito']\n",
    "\n",
    "total = len(filmes)\n",
    "\n",
    "print(filmes)\n",
    "print('Total de filmes: ' + str(total))"
   ]
  },
  {
   "cell_type": "markdown",
   "metadata": {},
   "source": [
    "Simule a movimentação do ranking. Utilize os métodos insert e pop para trocar a posição\n",
    "do primeiro e do segundo filme da lista. Imprima o resultado.\n"
   ]
  },
  {
   "cell_type": "code",
   "execution_count": null,
   "metadata": {},
   "outputs": [],
   "source": [
    "filmes.insert(0, 'O Poderoso Chefão')\n",
    "filmes.pop(2)\n",
    "total = len(filmes)\n",
    "\n",
    "\n",
    "print(filmes)\n",
    "print('Total de filmes: ' + str(total))"
   ]
  },
  {
   "cell_type": "markdown",
   "metadata": {},
   "source": [
    "### **2. Conjuntos**"
   ]
  },
  {
   "cell_type": "markdown",
   "metadata": {},
   "source": [
    "Aconteceu um erro no seu ranking. Simule a duplicação dos três últimos filmes da lista.\n",
    "Imprima o resultado."
   ]
  },
  {
   "cell_type": "code",
   "execution_count": null,
   "metadata": {},
   "outputs": [],
   "source": [
    "filmes = ['Um Sonho de Liberdade', 'O Poderoso Chefão', 'Batman: O Cavaleiro das Trevas', 'O Poderoso Chefão II', '12 Homens e uma Sentença', 'A Lista de Schindler', 'O Senhor dos Anéis: O Retorno do Rei', 'Pulp Fiction: Tempo de Violência', 'O Senhor dos Anéis: A Sociedade do Anel', 'Três Homens em Conflito', 'Pulp Fiction: Tempo de Violência', 'O Senhor dos Anéis: A Sociedade do Anel', 'Três Homens em Conflito']\n",
    "total = len(filmes)\n",
    "\n",
    "\n",
    "print(filmes)\n",
    "print('Total de filmes: ' + str(total))"
   ]
  },
  {
   "cell_type": "markdown",
   "metadata": {},
   "source": [
    "Utiliza a conversão set e list para remover os valores duplicados. Imprima o resultado."
   ]
  },
  {
   "cell_type": "code",
   "execution_count": null,
   "metadata": {},
   "outputs": [],
   "source": [
    "#Lista com valores duplicados\n",
    "print(filmes)\n",
    "print(len(filmes))\n",
    "\n",
    "#Lista com valores duplicados removidos\n",
    "list_ok = list(set(filmes))\n",
    "print(list_ok)\n",
    "print(len(list_ok))\n",
    "\n",
    "\n"
   ]
  },
  {
   "cell_type": "markdown",
   "metadata": {},
   "source": [
    "### **3. Dicionários**"
   ]
  },
  {
   "cell_type": "markdown",
   "metadata": {},
   "source": [
    "Repita os exercícios da parte 1 (listas). Os elementos da lista filmes devem ser dicionários\n",
    "no seguinte formato: `{'nome': <nome-do-filme>, 'ano': <ano do filme>},\n",
    "'sinopse': <sinopse do filme>}` .\n"
   ]
  },
  {
   "cell_type": "code",
   "execution_count": 78,
   "metadata": {},
   "outputs": [],
   "source": [
    "filmes = []"
   ]
  },
  {
   "cell_type": "code",
   "execution_count": 81,
   "metadata": {},
   "outputs": [],
   "source": [
    "filme = {'nome':'Um Sonho de Liberdade ', 'ano':'1994', 'sinopse':'Dois homens presos se reúnem ao longo de vários anos, encontrando consolo e eventual redenção através de atos de decência comum.'}, {'nome':' O Poderoso Chefão', 'ano':'1972', 'sinopse':''},{'nome':'Batman: O Cavaleiro das Trevas', 'ano':'2008', 'sinopse':''}, {'nome':'O Poderoso Chefão II', 'ano':'1974', 'sinopse':''}, {'nome':'12 Homens e uma Sentença ', 'ano':'1957', 'sinopse':''}, {'nome':'A Lista de Schindler', 'ano':'1993', 'sinopse':''}, {'nome':'O Senhor dos Anéis: O Retorno do Rei', 'ano':'2003', 'sinopse':''}, {'nome':'Pulp Fiction: Tempo de Violência', 'ano':'1994', 'sinopse':''}, {'nome':'O Senhor dos Anéis: A Sociedade do Anel', 'ano':'2001', 'sinopse':''}, {'nome':'Três Homens em Conflito', 'ano':'1966', 'sinopse':''}\n",
    "filmes.append(filme)\n"
   ]
  },
  {
   "cell_type": "code",
   "execution_count": null,
   "metadata": {},
   "outputs": [],
   "source": [
    "print(filmes)"
   ]
  }
 ],
 "metadata": {
  "kernelspec": {
   "display_name": "Python 3.11.0 64-bit",
   "language": "python",
   "name": "python3"
  },
  "language_info": {
   "codemirror_mode": {
    "name": "ipython",
    "version": 3
   },
   "file_extension": ".py",
   "mimetype": "text/x-python",
   "name": "python",
   "nbconvert_exporter": "python",
   "pygments_lexer": "ipython3",
   "version": "3.11.0"
  },
  "orig_nbformat": 4,
  "vscode": {
   "interpreter": {
    "hash": "c261aea317cc0286b3b3261fbba9abdec21eaa57589985bb7a274bf54d6cc0a7"
   }
  }
 },
 "nbformat": 4,
 "nbformat_minor": 2
}
