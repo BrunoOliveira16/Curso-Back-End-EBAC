{
  "cells": [
    {
      "attachments": {},
      "cell_type": "markdown",
      "metadata": {
        "id": "KJqp9AANOCtf"
      },
      "source": [
        "---\n",
        "\n",
        "# **Módulo** | Python: Fluxo Condicional & Repetição\n",
        "Caderno de **Aula**<br> \n",
        "\n",
        "---"
      ]
    },
    {
      "cell_type": "markdown",
      "metadata": {
        "id": "d9jDtUbDOE1-"
      },
      "source": [
        "# **Tópicos**\n",
        "\n",
        "<ol type=\"1\">\n",
        "  <li>Estrutura condicional if / else / elif;</li>\n",
        "  <li>Estrutura condicional try / catch / finally;</li>\n",
        "  <li>Estrutura de repetição for / in.</li>\n",
        "</ol>"
      ]
    },
    {
      "cell_type": "markdown",
      "metadata": {
        "id": "SmoHgt-lwkpD"
      },
      "source": [
        "---"
      ]
    },
    {
      "cell_type": "markdown",
      "metadata": {
        "id": "GABI6OW8OfQ2"
      },
      "source": [
        "# **Aulas**"
      ]
    },
    {
      "cell_type": "markdown",
      "metadata": {
        "id": "muD1vxozykSC"
      },
      "source": [
        "## 1\\. Estrutura condicional if / else / elif"
      ]
    },
    {
      "cell_type": "markdown",
      "metadata": {
        "id": "E6D5rjlESJ1A"
      },
      "source": [
        "### **1.1. if / else** "
      ]
    },
    {
      "cell_type": "markdown",
      "metadata": {
        "id": "2SIVm6ySRaeI"
      },
      "source": [
        "Estrutura de alteração de fluxo lógico do código, avalia um valor booleano ou uma comparação lógica. **Note** a identação do código."
      ]
    },
    {
      "cell_type": "markdown",
      "metadata": {
        "id": "jfrmdxoJVw-l"
      },
      "source": [
        "```python\n",
        "if <booleano / comparação lógica> == True:\n",
        "  <execute este código>\n",
        "else:\n",
        "  <senão execute este código>\n",
        "```"
      ]
    },
    {
      "cell_type": "code",
      "execution_count": null,
      "metadata": {
        "id": "7tNcqW3aTZPr",
        "vscode": {
          "languageId": "python"
        }
      },
      "outputs": [],
      "source": [
        "if False:\n",
        "  print(\"Verdadeiro\")\n",
        "else:\n",
        "  print(\"Falso\")"
      ]
    },
    {
      "cell_type": "markdown",
      "metadata": {
        "id": "e3h_XvXxTSqd"
      },
      "source": [
        "**Exemplo**: Código de segurança de um cartão de crédito"
      ]
    },
    {
      "cell_type": "code",
      "execution_count": null,
      "metadata": {
        "id": "3ungC6KPSg1y",
        "vscode": {
          "languageId": "python"
        }
      },
      "outputs": [],
      "source": [
        "codigo_de_seguranca = '291'\n",
        "codigo_de_seguranca_cadastro = '010'\n",
        "\n",
        "pode_efetuar_pagamento = codigo_de_seguranca == codigo_de_seguranca_cadastro\n",
        "print(pode_efetuar_pagamento)"
      ]
    },
    {
      "cell_type": "code",
      "execution_count": null,
      "metadata": {
        "id": "5vpLILeASoNz",
        "vscode": {
          "languageId": "python"
        }
      },
      "outputs": [],
      "source": [
        "if pode_efetuar_pagamento:\n",
        "  print(\"Pagamento efetuado\")\n",
        "else:\n",
        "  print(\"Erro: Código de segurança inválido\")"
      ]
    },
    {
      "cell_type": "code",
      "execution_count": null,
      "metadata": {
        "id": "oj76sTo-Ttz8",
        "vscode": {
          "languageId": "python"
        }
      },
      "outputs": [],
      "source": [
        "if codigo_de_seguranca == codigo_de_seguranca_cadastro:\n",
        "  print(\"Pagamento efetuado\")\n",
        "else:\n",
        "  print(\"Erro: Código de segurança inválido\")"
      ]
    },
    {
      "cell_type": "markdown",
      "metadata": {
        "id": "zvvqNNM1UDzh"
      },
      "source": [
        "**Exemplo**: Código e senha de segurança de um cartão de crédito"
      ]
    },
    {
      "cell_type": "code",
      "execution_count": null,
      "metadata": {
        "id": "42kdrjL3UPnt",
        "vscode": {
          "languageId": "python"
        }
      },
      "outputs": [],
      "source": [
        "codigo_de_seguranca = '852'\n",
        "codigo_de_seguranca_cadastro = '852'\n",
        "\n",
        "senha = '7783'\n",
        "senha_cadastro = '7783'"
      ]
    },
    {
      "cell_type": "markdown",
      "metadata": {
        "id": "tvmgUmH5UZlj"
      },
      "source": [
        "Revisitando a tabela da verdade:"
      ]
    },
    {
      "cell_type": "markdown",
      "metadata": {
        "id": "CMkW6VfqUX73"
      },
      "source": [
        "| CÓDIGO        | SENHA        | | | CÓDIGO OR SENHA   | | CÓDIGO AND SENHA  | | NOT CÓDIGO    |\n",
        "|----------|----------|-|-|----------|-|----------|-|----------|\n",
        "| **TRUE** | **TRUE** | | | **TRUE** | | **TRUE** | | FALSE    |\n",
        "| **TRUE** | FALSE    | | | **TRUE** | | FALSE    | | FALSE    |\n",
        "| FALSE    | FALSE    | | | FALSE    | | FALSE    | | **TRUE** |\n",
        "| FALSE    | **TRUE** | | | **TRUE** | | FALSE    | | **TRUE** |"
      ]
    },
    {
      "cell_type": "code",
      "execution_count": null,
      "metadata": {
        "id": "ypis6-LgUn5z",
        "vscode": {
          "languageId": "python"
        }
      },
      "outputs": [],
      "source": [
        "if (codigo_de_seguranca == codigo_de_seguranca_cadastro) & (senha == senha_cadastro):\n",
        "  print(\"Pagamento efetuado\")\n",
        "else:\n",
        "  print(\"Erro: Pagamento não efetuado\")"
      ]
    },
    {
      "cell_type": "code",
      "execution_count": null,
      "metadata": {
        "id": "DCCPknUSUwQM",
        "vscode": {
          "languageId": "python"
        }
      },
      "outputs": [],
      "source": [
        "if (codigo_de_seguranca != codigo_de_seguranca_cadastro) | (senha != senha_cadastro):\n",
        "  print(\"Erro: Pagamento não efetuado\")\n",
        "else:\n",
        "  print(\"Pagamento efetuado\")"
      ]
    },
    {
      "cell_type": "markdown",
      "metadata": {
        "id": "wNkFG1qKSU9M"
      },
      "source": [
        "### **1.2. if / elif / else**"
      ]
    },
    {
      "cell_type": "markdown",
      "metadata": {
        "id": "9c-GagIqSjUA"
      },
      "source": [
        "Podemos também avaliar múltipla condições."
      ]
    },
    {
      "cell_type": "markdown",
      "metadata": {
        "id": "G66Dxs8pWXPU"
      },
      "source": [
        "```python\n",
        "if <1º booleano / 1ª comparação lógica> == True:\n",
        "  <execute este código se a primeira condição for verdade>\n",
        "elif <2º booleano / 2ª comparação lógica> == True:\n",
        "  <execute este código se a segunda condição for verdade>\n",
        "else:\n",
        "  <senão execute este código>\n",
        "```"
      ]
    },
    {
      "cell_type": "code",
      "execution_count": null,
      "metadata": {
        "id": "bLDeLzLxSnwP",
        "vscode": {
          "languageId": "python"
        }
      },
      "outputs": [],
      "source": [
        "codigo_de_seguranca = '802'\n",
        "codigo_de_seguranca_cadastro = '852'\n",
        "\n",
        "senha = '7703'\n",
        "senha_cadastro = '7783'"
      ]
    },
    {
      "cell_type": "markdown",
      "metadata": {
        "id": "e982wq8XTq49"
      },
      "source": [
        "| CÓDIGO        | SENHA        | | | CÓDIGO AND SENHA  | MENSAGEM |\n",
        "|----------|----------|-|-|----------|-|\n",
        "| **TRUE** | **TRUE** | | | **TRUE** | Pagamento efetuado |\n",
        "| **TRUE** | FALSE    | | | FALSE    | Erro: Senha inválida |\n",
        "| FALSE    | FALSE    | | | FALSE    | Erro: Código de segurança e senha inválidos |\n",
        "| FALSE    | **TRUE** | | | FALSE    | Erro: Código de segurança inválido |"
      ]
    },
    {
      "cell_type": "code",
      "execution_count": null,
      "metadata": {
        "id": "rbjgy-XSSy8w",
        "vscode": {
          "languageId": "python"
        }
      },
      "outputs": [],
      "source": [
        "if (codigo_de_seguranca == codigo_de_seguranca_cadastro) & (senha == senha_cadastro):\n",
        "  print(\"Pagamento efetuado\")\n",
        "\n",
        "elif (codigo_de_seguranca != codigo_de_seguranca_cadastro) & (senha == senha_cadastro):\n",
        "  print(\"Erro: Código de segurança inválido\")\n",
        "\n",
        "elif (codigo_de_seguranca == codigo_de_seguranca_cadastro) & (senha != senha_cadastro):\n",
        "  print(\"Erro: Senha inválida inválida\")\n",
        "\n",
        "else:\n",
        "  print(\"Erro: Código de segurança e senha inválidos\")"
      ]
    },
    {
      "cell_type": "markdown",
      "metadata": {
        "id": "4rRCvy_UURrM"
      },
      "source": [
        "## 2\\. Estrutura condicional try /except / finally"
      ]
    },
    {
      "cell_type": "markdown",
      "metadata": {
        "id": "cOZDKbe6URrb"
      },
      "source": [
        "### **2.1. Exceção** "
      ]
    },
    {
      "cell_type": "markdown",
      "metadata": {
        "id": "nfc742pLmgL9"
      },
      "source": [
        "Exceções são erros que podem acontecer durante a execução do nosso código."
      ]
    },
    {
      "cell_type": "markdown",
      "metadata": {
        "id": "0je_kLq_myEV"
      },
      "source": [
        "**Exemplo**: Erro de operações numéricas impossíveis"
      ]
    },
    {
      "cell_type": "code",
      "execution_count": null,
      "metadata": {
        "id": "2yXpo2dfmm1T",
        "vscode": {
          "languageId": "python"
        }
      },
      "outputs": [],
      "source": [
        "preco = 132.85\n",
        "pessoas = 0"
      ]
    },
    {
      "cell_type": "code",
      "execution_count": null,
      "metadata": {
        "id": "LsrxSe--nI6b",
        "vscode": {
          "languageId": "python"
        }
      },
      "outputs": [],
      "source": [
        "valor_por_pessoa = preco / pessoas"
      ]
    },
    {
      "cell_type": "markdown",
      "metadata": {
        "id": "paZfxkVzm3gW"
      },
      "source": [
        "**Exemplo**: Erro por combinações de tipos diferentes"
      ]
    },
    {
      "cell_type": "code",
      "execution_count": null,
      "metadata": {
        "id": "rrlR9Xv6nErH",
        "vscode": {
          "languageId": "python"
        }
      },
      "outputs": [],
      "source": [
        "nome = 'Andre Perez'\n",
        "idade = True"
      ]
    },
    {
      "cell_type": "code",
      "execution_count": null,
      "metadata": {
        "id": "IT3ySwYxnX0j",
        "vscode": {
          "languageId": "python"
        }
      },
      "outputs": [],
      "source": [
        "apresentacao = 'Fala pessoal, meu nome é ' + nome + ' e eu tenho ' + idade + ' anos'"
      ]
    },
    {
      "cell_type": "markdown",
      "metadata": {
        "id": "PdIsskJNnors"
      },
      "source": [
        "**Exemplo**: Erro de indexação de estrutura de dados"
      ]
    },
    {
      "cell_type": "code",
      "execution_count": null,
      "metadata": {
        "id": "AL0YPYtqntUc",
        "vscode": {
          "languageId": "python"
        }
      },
      "outputs": [],
      "source": [
        "anos = [2019, 2020, 2021]"
      ]
    },
    {
      "cell_type": "code",
      "execution_count": null,
      "metadata": {
        "id": "1mksjF3inyub",
        "vscode": {
          "languageId": "python"
        }
      },
      "outputs": [],
      "source": [
        "ano_atual = anos[3]"
      ]
    },
    {
      "cell_type": "code",
      "execution_count": null,
      "metadata": {
        "id": "RhjOE1jCn4ZA",
        "vscode": {
          "languageId": "python"
        }
      },
      "outputs": [],
      "source": [
        "cursos = {\n",
        "    'python': {\n",
        "        'nome': 'Python para Análise de Dados', 'duracao': 2.5\n",
        "    }, \n",
        "    'sql': {\n",
        "        'nome': 'SQL para Análise de Dados', 'duracao': 2\n",
        "    }\n",
        "}"
      ]
    },
    {
      "cell_type": "code",
      "execution_count": null,
      "metadata": {
        "id": "hUl1PmAAoSqt",
        "vscode": {
          "languageId": "python"
        }
      },
      "outputs": [],
      "source": [
        "curso_atual = cursos['analista']"
      ]
    },
    {
      "cell_type": "markdown",
      "metadata": {
        "id": "5q6xcwOWURrc"
      },
      "source": [
        "### **2.2. try / except** "
      ]
    },
    {
      "cell_type": "markdown",
      "metadata": {
        "id": "3eu6Eu1Uoh_t"
      },
      "source": [
        "Estrutura para tratar exceções:"
      ]
    },
    {
      "cell_type": "code",
      "execution_count": null,
      "metadata": {
        "id": "S00K5ucnopBI",
        "vscode": {
          "languageId": "python"
        }
      },
      "outputs": [],
      "source": [
        "preco = 132.85\n",
        "pessoas = 2\n",
        "\n",
        "try:\n",
        "  valor_por_pessoa = preco / pessoas\n",
        "  print(valor_por_pessoa)\n",
        "except ZeroDivisionError:\n",
        "  print('Número de pessoas inválido. Espera-se um valor maior que 0 e obteve-se um valor igual a ' + str(pessoas))"
      ]
    },
    {
      "cell_type": "code",
      "execution_count": null,
      "metadata": {
        "id": "xW1r3TMvpIxE",
        "vscode": {
          "languageId": "python"
        }
      },
      "outputs": [],
      "source": [
        "anos = [2019, 2020, 2021]\n",
        "\n",
        "try:\n",
        "  ano_atual = anos[3]\n",
        "  print(ano_atual)\n",
        "except Exception:\n",
        "  print('Lista de anos é menor que o valor escolhido. Espera-se um valor entre 0 e ' + str(len(anos) - 1))"
      ]
    },
    {
      "cell_type": "code",
      "execution_count": null,
      "metadata": {
        "id": "CSxX6o_3pxCV",
        "vscode": {
          "languageId": "python"
        }
      },
      "outputs": [],
      "source": [
        "anos = [2019, 2020, 2021]\n",
        "\n",
        "try:\n",
        "  ano_atual = anos[3]\n",
        "  print(ano_atual)\n",
        "except Exception as exc:\n",
        "  print('Descrição da exceção: ' + str(exc))\n",
        "  print('Tipo da exceção: ' + str(type(exc)))\n",
        "  print('Lista de anos é menor que o valor escolhido. Espera-se um valor entre 0 e ' + str(len(anos) - 1))"
      ]
    },
    {
      "cell_type": "code",
      "execution_count": null,
      "metadata": {
        "id": "f8f66yWuqKul",
        "vscode": {
          "languageId": "python"
        }
      },
      "outputs": [],
      "source": [
        "anos = [2019, 2020, 2021]\n",
        "\n",
        "try:\n",
        "  ano_atual = anos[3]\n",
        "  print(ano_atual)\n",
        "except IndexError:\n",
        "  print('Lista de anos é menor que o valor escolhido. Espera-se um valor entre 0 e ' + str(len(anos) - 1))\n",
        "except Exception as exc:\n",
        "  print(exc)\n",
        "  print('Erro genérico')"
      ]
    },
    {
      "cell_type": "markdown",
      "metadata": {
        "id": "WxnG-e3HURrd"
      },
      "source": [
        "### **2.3. try / except / finally** "
      ]
    },
    {
      "cell_type": "code",
      "execution_count": null,
      "metadata": {
        "id": "i1e_Ag58qZ0n",
        "vscode": {
          "languageId": "python"
        }
      },
      "outputs": [],
      "source": [
        "nome = 'Andre Perez'\n",
        "idade = 19\n",
        "\n",
        "try:\n",
        "  apresentacao = 'Fala pessoal, meu nome é ' + nome + ' e eu tenho ' + idade + ' anos'\n",
        "  print(apresentacao)\n",
        "except TypeError:\n",
        "  idade = str(idade)\n",
        "finally:\n",
        "  print('Segunda chance')\n",
        "  apresentacao = 'Fala pessoal, meu nome é ' + nome + ' e eu tenho ' + idade + ' anos'\n",
        "  print(apresentacao)"
      ]
    },
    {
      "cell_type": "markdown",
      "metadata": {
        "id": "_4Ugey3GWq78"
      },
      "source": [
        "## 3\\. Estrutura repetição for / in"
      ]
    },
    {
      "cell_type": "markdown",
      "metadata": {
        "id": "cyA9LdYcBfeF"
      },
      "source": [
        "### **3.1. for / in** "
      ]
    },
    {
      "cell_type": "markdown",
      "metadata": {
        "id": "-F-0zD99Bv97"
      },
      "source": [
        "Estrutura que permite a execução repetida de um bloco de código repetidas vezes."
      ]
    },
    {
      "cell_type": "markdown",
      "metadata": {
        "id": "JyP2wUaUBjrp"
      },
      "source": [
        "```python\n",
        "for variavel_temporaria in coleção:\n",
        "  <execute este código>\n",
        "```"
      ]
    },
    {
      "cell_type": "markdown",
      "metadata": {
        "id": "lk9nsQkTWq7-"
      },
      "source": [
        "### **3.2. for / in / range** "
      ]
    },
    {
      "cell_type": "markdown",
      "metadata": {
        "id": "OHdGHUcN24u3"
      },
      "source": [
        "Estrutura que permite a execução repetida de um bloco de código **n** vezes."
      ]
    },
    {
      "cell_type": "code",
      "execution_count": null,
      "metadata": {
        "id": "D68uw4X024NQ",
        "vscode": {
          "languageId": "python"
        }
      },
      "outputs": [],
      "source": [
        "for valor in range(6):\n",
        "  print(valor)"
      ]
    },
    {
      "cell_type": "code",
      "execution_count": null,
      "metadata": {
        "id": "ZhKvc8BR3g0a",
        "vscode": {
          "languageId": "python"
        }
      },
      "outputs": [],
      "source": [
        "soma = 0\n",
        "\n",
        "for valor in range(0, 100000):\n",
        "  soma = soma + valor\n",
        "  # print(soma)\n",
        "\n",
        "print(soma)"
      ]
    },
    {
      "cell_type": "code",
      "execution_count": null,
      "metadata": {
        "id": "xvh2Imqy4YyU",
        "vscode": {
          "languageId": "python"
        }
      },
      "outputs": [],
      "source": [
        "for multiplo_dois in range(2, 10, 3):\n",
        "  print(multiplo_dois)"
      ]
    },
    {
      "cell_type": "markdown",
      "metadata": {
        "id": "5nmm_ShgWq7_"
      },
      "source": [
        "### **3.3. for / in / list** "
      ]
    },
    {
      "cell_type": "markdown",
      "metadata": {
        "id": "LB7Ghhx94ljq"
      },
      "source": [
        "Estrutura que permite a execução de um bloco de código para todos os elementos de uma lista."
      ]
    },
    {
      "cell_type": "code",
      "execution_count": null,
      "metadata": {
        "id": "z12p8IT-4s4U",
        "vscode": {
          "languageId": "python"
        }
      },
      "outputs": [],
      "source": [
        "frutas = ['maca', 'banana', 'laranja', 'uva', 'pera']\n",
        "\n",
        "for fruta in frutas:\n",
        "  print(fruta)"
      ]
    },
    {
      "cell_type": "code",
      "execution_count": null,
      "metadata": {
        "id": "3zkZ-gPU8diZ",
        "vscode": {
          "languageId": "python"
        }
      },
      "outputs": [],
      "source": [
        "frase = 'Fala pessoal, meu nome é André Perez.'\n",
        "\n",
        "for caracter in frase:\n",
        "  if (caracter == 'A') | (caracter == 'z'):\n",
        "    print(f\"A letra '{caracter}' está presente na frase.\")"
      ]
    },
    {
      "cell_type": "markdown",
      "metadata": {
        "id": "GsUpIpUoXmhc"
      },
      "source": [
        "### **3.4. for / in / dict** "
      ]
    },
    {
      "cell_type": "markdown",
      "metadata": {
        "id": "xx38Jwu_7OJS"
      },
      "source": [
        "Estrutura que permite a execução de um bloco de código para todos os elementos de um dicionário."
      ]
    },
    {
      "cell_type": "code",
      "execution_count": null,
      "metadata": {
        "id": "Zo-LDBca7ULR",
        "vscode": {
          "languageId": "python"
        }
      },
      "outputs": [],
      "source": [
        "credito = {'123': 750, '456': 812, '789': 980}"
      ]
    },
    {
      "cell_type": "code",
      "execution_count": null,
      "metadata": {
        "id": "-MI9OP197jUU",
        "vscode": {
          "languageId": "python"
        }
      },
      "outputs": [],
      "source": [
        "for chave, valor in credito.items():\n",
        "  print(f'Para o documento {chave}, o valor do escore de crédito é {valor}.')\n",
        "  print('\\n')"
      ]
    },
    {
      "cell_type": "code",
      "execution_count": null,
      "metadata": {
        "id": "juFICibw76Ay",
        "vscode": {
          "languageId": "python"
        }
      },
      "outputs": [],
      "source": [
        "for chave in credito.keys():\n",
        "  print(chave)\n",
        "  print(credito[chave])\n",
        "  print(f'Para o documento {chave}, o valor do escore de crédito é {credito[chave]}.')\n",
        "  print('\\n')"
      ]
    },
    {
      "cell_type": "code",
      "execution_count": null,
      "metadata": {
        "id": "kocTkvpH8LsV",
        "vscode": {
          "languageId": "python"
        }
      },
      "outputs": [],
      "source": [
        "for valor in credito.values():\n",
        "  print(valor)\n",
        "  print(f'O valor do escore de crédito é {valor}, mas não temos mais as chaves :(.')\n",
        "  print('\\n')"
      ]
    },
    {
      "cell_type": "markdown",
      "metadata": {
        "id": "NOh6bacJWq8A"
      },
      "source": [
        "### **3.5. break / continue** "
      ]
    },
    {
      "cell_type": "markdown",
      "metadata": {
        "id": "NzAhsgdE9Jw9"
      },
      "source": [
        "Estrutura que permite a quebra ou o avanço de um laço de repetição."
      ]
    },
    {
      "cell_type": "code",
      "execution_count": null,
      "metadata": {
        "id": "6G_zUh2t9TGk",
        "vscode": {
          "languageId": "python"
        }
      },
      "outputs": [],
      "source": [
        "for i in range(0, 10*10*10*10*10*10):\n",
        "  print(i)\n",
        "  if i == 10:\n",
        "    break"
      ]
    },
    {
      "cell_type": "code",
      "execution_count": null,
      "metadata": {
        "id": "tTDBNrwU9pie",
        "vscode": {
          "languageId": "python"
        }
      },
      "outputs": [],
      "source": [
        "numero = 3\n",
        "\n",
        "if numero % 2 == 0:\n",
        "  print(f'O numero {numero} é par')\n",
        "else:\n",
        "  print(f'O numero {numero} é impar')"
      ]
    },
    {
      "cell_type": "code",
      "execution_count": null,
      "metadata": {
        "id": "Wd7P73u69_62",
        "vscode": {
          "languageId": "python"
        }
      },
      "outputs": [],
      "source": [
        "numeros = [361, 553, 194, 13, 510, 33, 135]\n",
        "\n",
        "for numero in numeros:\n",
        "\n",
        "  if numero % 2 == 0:\n",
        "    print(f'O numero {numero} é par')\n",
        "    break\n",
        "  else:\n",
        "    print(f'O numero {numero} é impar')"
      ]
    },
    {
      "cell_type": "code",
      "execution_count": null,
      "metadata": {
        "id": "O8y3bath-oEl",
        "vscode": {
          "languageId": "python"
        }
      },
      "outputs": [],
      "source": [
        "numeros = [361, 553, 194, 13, 510, 33, 135]\n",
        "\n",
        "for numero in numeros:\n",
        "\n",
        "  if numero % 2 == 0:\n",
        "    print(f'O numero {numero} é par')\n",
        "    break\n",
        "  else:\n",
        "    continue\n",
        "    print(f'O numero {numero} é impar')"
      ]
    }
  ],
  "metadata": {
    "colab": {
      "collapsed_sections": [
        "JG1HL69-j0lH",
        "s_Dj-BgThLg5",
        "jeEzLmuRhDQy",
        "PoTeRwlihDQ0",
        "QpMlxqRyhDQ1",
        "ov7Fg-mWhDQ1",
        "DvHPNAoPgdiG",
        "3SMp5GwjglJm",
        "e3ieQfXTgqd3",
        "L0pKWNr5fm9z",
        "DMhCpOU_gupo",
        "l3h0WP2Eg2ht",
        "rWG4Vk6XaWtf",
        "wkibgd8rB8y3",
        "IjPaJtnYE0MI",
        "2lpj1rszc--m",
        "HnWg_mhLd5gC",
        "RhqmXiHQo-is",
        "SvT9xrajLL7J",
        "91eSyA2cLLqv"
      ],
      "name": "module_3_class.ipynb",
      "provenance": [],
      "toc_visible": true
    },
    "kernelspec": {
      "display_name": "Python 3",
      "name": "python3"
    }
  },
  "nbformat": 4,
  "nbformat_minor": 0
}
